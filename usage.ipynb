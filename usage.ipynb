{
 "cells": [
  {
   "cell_type": "markdown",
   "id": "69456bf9-0c36-4d7a-a176-d2bb02c88900",
   "metadata": {
    "tags": []
   },
   "source": [
    "# get data"
   ]
  },
  {
   "cell_type": "code",
   "execution_count": 2,
   "id": "cca3f916-09c4-4f6c-b3a3-88797d8f7472",
   "metadata": {
    "tags": []
   },
   "outputs": [
    {
     "name": "stdout",
     "output_type": "stream",
     "text": [
      "Cloning into '100knocks-preprocess'...\n",
      "remote: Enumerating objects: 1798, done.\u001b[K\n",
      "remote: Counting objects: 100% (591/591), done.\u001b[K\n",
      "remote: Compressing objects: 100% (94/94), done.\u001b[K\n",
      "remote: Total 1798 (delta 523), reused 513 (delta 494), pack-reused 1207\u001b[K\n",
      "Receiving objects: 100% (1798/1798), 20.91 MiB | 37.04 MiB/s, done.\n",
      "Resolving deltas: 100% (1004/1004), done.\n"
     ]
    }
   ],
   "source": [
    "!git clone https://github.com/The-Japan-DataScientist-Society/100knocks-preprocess.git"
   ]
  },
  {
   "cell_type": "code",
   "execution_count": null,
   "id": "f43ce6bb-dbe6-4c55-9c8b-3b6793486d5b",
   "metadata": {},
   "outputs": [],
   "source": []
  },
  {
   "cell_type": "code",
   "execution_count": 4,
   "id": "c84f8e1f-bdf1-4a23-9600-34fa7c6d139c",
   "metadata": {
    "tags": []
   },
   "outputs": [
    {
     "name": "stdout",
     "output_type": "stream",
     "text": [
      "Requirement already satisfied: pip in /opt/conda/lib/python3.10/site-packages (24.0)\n"
     ]
    }
   ],
   "source": [
    "!pip install --upgrade pip"
   ]
  },
  {
   "cell_type": "markdown",
   "id": "88f1bea5-26cb-41f5-b0d1-17571b4a6576",
   "metadata": {},
   "source": [
    "# polars"
   ]
  },
  {
   "cell_type": "code",
   "execution_count": 5,
   "id": "cb86a104-1d28-4080-8772-2526197b28e8",
   "metadata": {
    "tags": []
   },
   "outputs": [
    {
     "name": "stdout",
     "output_type": "stream",
     "text": [
      "Requirement already satisfied: polars in /opt/conda/lib/python3.10/site-packages (0.20.15)\n"
     ]
    }
   ],
   "source": [
    "!pip install polars"
   ]
  },
  {
   "cell_type": "code",
   "execution_count": 1,
   "id": "b3ffa085-4efa-48ee-9cdc-11296294ffa8",
   "metadata": {
    "tags": []
   },
   "outputs": [],
   "source": [
    "import polars as pl"
   ]
  },
  {
   "cell_type": "markdown",
   "id": "450ae230-7406-469e-9fcf-c420b293d088",
   "metadata": {
    "tags": []
   },
   "source": [
    "### マスター"
   ]
  },
  {
   "cell_type": "markdown",
   "id": "41d5fa99-0055-4dfe-829e-ea32de5f75d4",
   "metadata": {
    "tags": []
   },
   "source": [
    "### category"
   ]
  },
  {
   "cell_type": "code",
   "execution_count": 2,
   "id": "8620662c-df50-4422-929d-6ebc0e0e0b9e",
   "metadata": {
    "tags": []
   },
   "outputs": [
    {
     "data": {
      "text/html": [
       "<div><style>\n",
       ".dataframe > thead > tr,\n",
       ".dataframe > tbody > tr {\n",
       "  text-align: right;\n",
       "  white-space: pre-wrap;\n",
       "}\n",
       "</style>\n",
       "<small>shape: (228, 6)</small><table border=\"1\" class=\"dataframe\"><thead><tr><th>category_major_cd</th><th>category_major_name</th><th>category_medium_cd</th><th>category_medium_name</th><th>category_small_cd</th><th>category_small_name</th></tr><tr><td>i64</td><td>str</td><td>i64</td><td>str</td><td>i64</td><td>str</td></tr></thead><tbody><tr><td>4</td><td>&quot;惣菜&quot;</td><td>401</td><td>&quot;御飯類&quot;</td><td>40101</td><td>&quot;弁当類&quot;</td></tr><tr><td>4</td><td>&quot;惣菜&quot;</td><td>401</td><td>&quot;御飯類&quot;</td><td>40102</td><td>&quot;寿司類&quot;</td></tr><tr><td>4</td><td>&quot;惣菜&quot;</td><td>402</td><td>&quot;佃煮類&quot;</td><td>40201</td><td>&quot;魚介佃煮類&quot;</td></tr><tr><td>4</td><td>&quot;惣菜&quot;</td><td>402</td><td>&quot;佃煮類&quot;</td><td>40202</td><td>&quot;海草佃煮類&quot;</td></tr><tr><td>4</td><td>&quot;惣菜&quot;</td><td>402</td><td>&quot;佃煮類&quot;</td><td>40203</td><td>&quot;野菜佃煮類&quot;</td></tr><tr><td>&hellip;</td><td>&hellip;</td><td>&hellip;</td><td>&hellip;</td><td>&hellip;</td><td>&hellip;</td></tr><tr><td>9</td><td>&quot;洗剤&quot;</td><td>914</td><td>&quot;ペットフード&quot;</td><td>91401</td><td>&quot;ペットフード&quot;</td></tr><tr><td>9</td><td>&quot;洗剤&quot;</td><td>914</td><td>&quot;ペットフード&quot;</td><td>91402</td><td>&quot;ペット用剤&quot;</td></tr><tr><td>9</td><td>&quot;洗剤&quot;</td><td>914</td><td>&quot;ペットフード&quot;</td><td>91403</td><td>&quot;ペット用具&quot;</td></tr><tr><td>9</td><td>&quot;洗剤&quot;</td><td>915</td><td>&quot;ＤＩＹ用品&quot;</td><td>91501</td><td>&quot;建築・塗装材料&quot;</td></tr><tr><td>9</td><td>&quot;洗剤&quot;</td><td>915</td><td>&quot;ＤＩＹ用品&quot;</td><td>91503</td><td>&quot;園芸用品&quot;</td></tr></tbody></table></div>"
      ],
      "text/plain": [
       "shape: (228, 6)\n",
       "┌────────────────┬────────────────┬────────────────┬───────────────┬───────────────┬───────────────┐\n",
       "│ category_major ┆ category_major ┆ category_mediu ┆ category_medi ┆ category_smal ┆ category_smal │\n",
       "│ _cd            ┆ _name          ┆ m_cd           ┆ um_name       ┆ l_cd          ┆ l_name        │\n",
       "│ ---            ┆ ---            ┆ ---            ┆ ---           ┆ ---           ┆ ---           │\n",
       "│ i64            ┆ str            ┆ i64            ┆ str           ┆ i64           ┆ str           │\n",
       "╞════════════════╪════════════════╪════════════════╪═══════════════╪═══════════════╪═══════════════╡\n",
       "│ 4              ┆ 惣菜           ┆ 401            ┆ 御飯類        ┆ 40101         ┆ 弁当類        │\n",
       "│ 4              ┆ 惣菜           ┆ 401            ┆ 御飯類        ┆ 40102         ┆ 寿司類        │\n",
       "│ 4              ┆ 惣菜           ┆ 402            ┆ 佃煮類        ┆ 40201         ┆ 魚介佃煮類    │\n",
       "│ 4              ┆ 惣菜           ┆ 402            ┆ 佃煮類        ┆ 40202         ┆ 海草佃煮類    │\n",
       "│ 4              ┆ 惣菜           ┆ 402            ┆ 佃煮類        ┆ 40203         ┆ 野菜佃煮類    │\n",
       "│ …              ┆ …              ┆ …              ┆ …             ┆ …             ┆ …             │\n",
       "│ 9              ┆ 洗剤           ┆ 914            ┆ ペットフード  ┆ 91401         ┆ ペットフード  │\n",
       "│ 9              ┆ 洗剤           ┆ 914            ┆ ペットフード  ┆ 91402         ┆ ペット用剤    │\n",
       "│ 9              ┆ 洗剤           ┆ 914            ┆ ペットフード  ┆ 91403         ┆ ペット用具    │\n",
       "│ 9              ┆ 洗剤           ┆ 915            ┆ ＤＩＹ用品    ┆ 91501         ┆ 建築・塗装材  │\n",
       "│                ┆                ┆                ┆               ┆               ┆ 料            │\n",
       "│ 9              ┆ 洗剤           ┆ 915            ┆ ＤＩＹ用品    ┆ 91503         ┆ 園芸用品      │\n",
       "└────────────────┴────────────────┴────────────────┴───────────────┴───────────────┴───────────────┘"
      ]
     },
     "execution_count": 2,
     "metadata": {},
     "output_type": "execute_result"
    }
   ],
   "source": [
    "df_category = pl.read_csv(\"./data/category.csv\")\n",
    "df_category"
   ]
  },
  {
   "cell_type": "code",
   "execution_count": 13,
   "id": "1eb90f92-cafd-4958-a1f2-d607481e56e9",
   "metadata": {
    "tags": []
   },
   "outputs": [
    {
     "data": {
      "text/plain": [
       "True"
      ]
     },
     "execution_count": 13,
     "metadata": {},
     "output_type": "execute_result"
    }
   ],
   "source": [
    "df_category.shape[0] == df_category['category_small_cd'].n_unique()"
   ]
  },
  {
   "cell_type": "markdown",
   "id": "f4f56413-99c0-4acb-a1ac-a20e5121ba34",
   "metadata": {},
   "source": [
    "### customer"
   ]
  },
  {
   "cell_type": "code",
   "execution_count": 3,
   "id": "a467108b-f8b5-4c9c-b7d1-fb4e79813e09",
   "metadata": {
    "tags": []
   },
   "outputs": [
    {
     "data": {
      "text/html": [
       "<div><style>\n",
       ".dataframe > thead > tr,\n",
       ".dataframe > tbody > tr {\n",
       "  text-align: right;\n",
       "  white-space: pre-wrap;\n",
       "}\n",
       "</style>\n",
       "<small>shape: (21_971, 11)</small><table border=\"1\" class=\"dataframe\"><thead><tr><th>customer_id</th><th>customer_name</th><th>gender_cd</th><th>gender</th><th>birth_day</th><th>age</th><th>postal_cd</th><th>address</th><th>application_store_cd</th><th>application_date</th><th>status_cd</th></tr><tr><td>str</td><td>str</td><td>i64</td><td>str</td><td>str</td><td>i64</td><td>str</td><td>str</td><td>str</td><td>i64</td><td>str</td></tr></thead><tbody><tr><td>&quot;CS021313000114…</td><td>&quot;大野 あや子&quot;</td><td>1</td><td>&quot;女性&quot;</td><td>&quot;1981-04-29&quot;</td><td>37</td><td>&quot;259-1113&quot;</td><td>&quot;神奈川県伊勢原市粟窪****…</td><td>&quot;S14021&quot;</td><td>20150905</td><td>&quot;0-00000000-0&quot;</td></tr><tr><td>&quot;CS037613000071…</td><td>&quot;六角 雅彦&quot;</td><td>9</td><td>&quot;不明&quot;</td><td>&quot;1952-04-01&quot;</td><td>66</td><td>&quot;136-0076&quot;</td><td>&quot;東京都江東区南砂******…</td><td>&quot;S13037&quot;</td><td>20150414</td><td>&quot;0-00000000-0&quot;</td></tr><tr><td>&quot;CS031415000172…</td><td>&quot;宇多田 貴美子&quot;</td><td>1</td><td>&quot;女性&quot;</td><td>&quot;1976-10-04&quot;</td><td>42</td><td>&quot;151-0053&quot;</td><td>&quot;東京都渋谷区代々木*****…</td><td>&quot;S13031&quot;</td><td>20150529</td><td>&quot;D-20100325-C&quot;</td></tr><tr><td>&quot;CS028811000001…</td><td>&quot;堀井 かおり&quot;</td><td>1</td><td>&quot;女性&quot;</td><td>&quot;1933-03-27&quot;</td><td>86</td><td>&quot;245-0016&quot;</td><td>&quot;神奈川県横浜市泉区和泉町**…</td><td>&quot;S14028&quot;</td><td>20160115</td><td>&quot;0-00000000-0&quot;</td></tr><tr><td>&quot;CS001215000145…</td><td>&quot;田崎 美紀&quot;</td><td>1</td><td>&quot;女性&quot;</td><td>&quot;1995-03-29&quot;</td><td>24</td><td>&quot;144-0055&quot;</td><td>&quot;東京都大田区仲六郷*****…</td><td>&quot;S13001&quot;</td><td>20170605</td><td>&quot;6-20090929-2&quot;</td></tr><tr><td>&hellip;</td><td>&hellip;</td><td>&hellip;</td><td>&hellip;</td><td>&hellip;</td><td>&hellip;</td><td>&hellip;</td><td>&hellip;</td><td>&hellip;</td><td>&hellip;</td><td>&hellip;</td></tr><tr><td>&quot;CS002512000474…</td><td>&quot;市村 夏希&quot;</td><td>1</td><td>&quot;女性&quot;</td><td>&quot;1959-10-12&quot;</td><td>59</td><td>&quot;185-0034&quot;</td><td>&quot;東京都国分寺市光町*****…</td><td>&quot;S13002&quot;</td><td>20171110</td><td>&quot;0-00000000-0&quot;</td></tr><tr><td>&quot;CS029414000065…</td><td>&quot;上村 怜奈&quot;</td><td>1</td><td>&quot;女性&quot;</td><td>&quot;1970-10-19&quot;</td><td>48</td><td>&quot;279-0043&quot;</td><td>&quot;千葉県浦安市富士見*****…</td><td>&quot;S12029&quot;</td><td>20150313</td><td>&quot;F-20101028-F&quot;</td></tr><tr><td>&quot;CS012403000043…</td><td>&quot;堀越 明&quot;</td><td>0</td><td>&quot;男性&quot;</td><td>&quot;1972-12-16&quot;</td><td>46</td><td>&quot;231-0825&quot;</td><td>&quot;神奈川県横浜市中区本牧間門*…</td><td>&quot;S14012&quot;</td><td>20150406</td><td>&quot;0-00000000-0&quot;</td></tr><tr><td>&quot;CS033512000184…</td><td>&quot;池谷 華子&quot;</td><td>1</td><td>&quot;女性&quot;</td><td>&quot;1964-06-05&quot;</td><td>54</td><td>&quot;245-0016&quot;</td><td>&quot;神奈川県横浜市泉区和泉町**…</td><td>&quot;S14033&quot;</td><td>20160206</td><td>&quot;0-00000000-0&quot;</td></tr><tr><td>&quot;CS009213000022…</td><td>&quot;稲垣 咲&quot;</td><td>1</td><td>&quot;女性&quot;</td><td>&quot;1996-08-16&quot;</td><td>22</td><td>&quot;154-0012&quot;</td><td>&quot;東京都世田谷区駒沢*****…</td><td>&quot;S13009&quot;</td><td>20150424</td><td>&quot;0-00000000-0&quot;</td></tr></tbody></table></div>"
      ],
      "text/plain": [
       "shape: (21_971, 11)\n",
       "┌────────────┬────────────┬───────────┬────────┬───┬───────────┬───────────┬───────────┬───────────┐\n",
       "│ customer_i ┆ customer_n ┆ gender_cd ┆ gender ┆ … ┆ address   ┆ applicati ┆ applicati ┆ status_cd │\n",
       "│ d          ┆ ame        ┆ ---       ┆ ---    ┆   ┆ ---       ┆ on_store_ ┆ on_date   ┆ ---       │\n",
       "│ ---        ┆ ---        ┆ i64       ┆ str    ┆   ┆ str       ┆ cd        ┆ ---       ┆ str       │\n",
       "│ str        ┆ str        ┆           ┆        ┆   ┆           ┆ ---       ┆ i64       ┆           │\n",
       "│            ┆            ┆           ┆        ┆   ┆           ┆ str       ┆           ┆           │\n",
       "╞════════════╪════════════╪═══════════╪════════╪═══╪═══════════╪═══════════╪═══════════╪═══════════╡\n",
       "│ CS02131300 ┆ 大野       ┆ 1         ┆ 女性   ┆ … ┆ 神奈川県  ┆ S14021    ┆ 20150905  ┆ 0-0000000 │\n",
       "│ 0114       ┆ あや子     ┆           ┆        ┆   ┆ 伊勢原市  ┆           ┆           ┆ 0-0       │\n",
       "│            ┆            ┆           ┆        ┆   ┆ 粟窪***** ┆           ┆           ┆           │\n",
       "│            ┆            ┆           ┆        ┆   ┆ *****     ┆           ┆           ┆           │\n",
       "│ CS03761300 ┆ 六角 雅彦  ┆ 9         ┆ 不明   ┆ … ┆ 東京都江  ┆ S13037    ┆ 20150414  ┆ 0-0000000 │\n",
       "│ 0071       ┆            ┆           ┆        ┆   ┆ 東区南砂* ┆           ┆           ┆ 0-0       │\n",
       "│            ┆            ┆           ┆        ┆   ┆ ********* ┆           ┆           ┆           │\n",
       "│ CS03141500 ┆ 宇多田     ┆ 1         ┆ 女性   ┆ … ┆ 東京都渋  ┆ S13031    ┆ 20150529  ┆ D-2010032 │\n",
       "│ 0172       ┆ 貴美子     ┆           ┆        ┆   ┆ 谷区代々  ┆           ┆           ┆ 5-C       │\n",
       "│            ┆            ┆           ┆        ┆   ┆ 木******* ┆           ┆           ┆           │\n",
       "│            ┆            ┆           ┆        ┆   ┆ ***       ┆           ┆           ┆           │\n",
       "│ CS02881100 ┆ 堀井       ┆ 1         ┆ 女性   ┆ … ┆ 神奈川県  ┆ S14028    ┆ 20160115  ┆ 0-0000000 │\n",
       "│ 0001       ┆ かおり     ┆           ┆        ┆   ┆ 横浜市泉  ┆           ┆           ┆ 0-0       │\n",
       "│            ┆            ┆           ┆        ┆   ┆ 区和泉町* ┆           ┆           ┆           │\n",
       "│            ┆            ┆           ┆        ┆   ┆ ********* ┆           ┆           ┆           │\n",
       "│ CS00121500 ┆ 田崎 美紀  ┆ 1         ┆ 女性   ┆ … ┆ 東京都大  ┆ S13001    ┆ 20170605  ┆ 6-2009092 │\n",
       "│ 0145       ┆            ┆           ┆        ┆   ┆ 田区仲六  ┆           ┆           ┆ 9-2       │\n",
       "│            ┆            ┆           ┆        ┆   ┆ 郷******* ┆           ┆           ┆           │\n",
       "│            ┆            ┆           ┆        ┆   ┆ ***       ┆           ┆           ┆           │\n",
       "│ …          ┆ …          ┆ …         ┆ …      ┆ … ┆ …         ┆ …         ┆ …         ┆ …         │\n",
       "│ CS00251200 ┆ 市村 夏希  ┆ 1         ┆ 女性   ┆ … ┆ 東京都国  ┆ S13002    ┆ 20171110  ┆ 0-0000000 │\n",
       "│ 0474       ┆            ┆           ┆        ┆   ┆ 分寺市光  ┆           ┆           ┆ 0-0       │\n",
       "│            ┆            ┆           ┆        ┆   ┆ 町******* ┆           ┆           ┆           │\n",
       "│            ┆            ┆           ┆        ┆   ┆ ***       ┆           ┆           ┆           │\n",
       "│ CS02941400 ┆ 上村 怜奈  ┆ 1         ┆ 女性   ┆ … ┆ 千葉県浦  ┆ S12029    ┆ 20150313  ┆ F-2010102 │\n",
       "│ 0065       ┆            ┆           ┆        ┆   ┆ 安市富士  ┆           ┆           ┆ 8-F       │\n",
       "│            ┆            ┆           ┆        ┆   ┆ 見******* ┆           ┆           ┆           │\n",
       "│            ┆            ┆           ┆        ┆   ┆ ***       ┆           ┆           ┆           │\n",
       "│ CS01240300 ┆ 堀越 明    ┆ 0         ┆ 男性   ┆ … ┆ 神奈川県  ┆ S14012    ┆ 20150406  ┆ 0-0000000 │\n",
       "│ 0043       ┆            ┆           ┆        ┆   ┆ 横浜市中  ┆           ┆           ┆ 0-0       │\n",
       "│            ┆            ┆           ┆        ┆   ┆ 区本牧間  ┆           ┆           ┆           │\n",
       "│            ┆            ┆           ┆        ┆   ┆ 門******* ┆           ┆           ┆           │\n",
       "│            ┆            ┆           ┆        ┆   ┆ ***       ┆           ┆           ┆           │\n",
       "│ CS03351200 ┆ 池谷 華子  ┆ 1         ┆ 女性   ┆ … ┆ 神奈川県  ┆ S14033    ┆ 20160206  ┆ 0-0000000 │\n",
       "│ 0184       ┆            ┆           ┆        ┆   ┆ 横浜市泉  ┆           ┆           ┆ 0-0       │\n",
       "│            ┆            ┆           ┆        ┆   ┆ 区和泉町* ┆           ┆           ┆           │\n",
       "│            ┆            ┆           ┆        ┆   ┆ ********* ┆           ┆           ┆           │\n",
       "│ CS00921300 ┆ 稲垣 咲    ┆ 1         ┆ 女性   ┆ … ┆ 東京都世  ┆ S13009    ┆ 20150424  ┆ 0-0000000 │\n",
       "│ 0022       ┆            ┆           ┆        ┆   ┆ 田谷区駒  ┆           ┆           ┆ 0-0       │\n",
       "│            ┆            ┆           ┆        ┆   ┆ 沢******* ┆           ┆           ┆           │\n",
       "│            ┆            ┆           ┆        ┆   ┆ ***       ┆           ┆           ┆           │\n",
       "└────────────┴────────────┴───────────┴────────┴───┴───────────┴───────────┴───────────┴───────────┘"
      ]
     },
     "execution_count": 3,
     "metadata": {},
     "output_type": "execute_result"
    }
   ],
   "source": [
    "df_customer = pl.read_csv(\"./data/customer.csv\")\n",
    "df_customer"
   ]
  },
  {
   "cell_type": "code",
   "execution_count": 14,
   "id": "7e8bbd34-6da5-4c58-96ec-659ce71b6175",
   "metadata": {
    "tags": []
   },
   "outputs": [
    {
     "data": {
      "text/plain": [
       "True"
      ]
     },
     "execution_count": 14,
     "metadata": {},
     "output_type": "execute_result"
    }
   ],
   "source": [
    "df_customer.shape[0] == df_customer['customer_id'].n_unique()"
   ]
  },
  {
   "cell_type": "code",
   "execution_count": 91,
   "id": "45f0d34f-3c5d-4eec-91af-bf8a2f2886a0",
   "metadata": {
    "tags": []
   },
   "outputs": [
    {
     "data": {
      "text/html": [
       "<div><style>\n",
       ".dataframe > thead > tr,\n",
       ".dataframe > tbody > tr {\n",
       "  text-align: right;\n",
       "  white-space: pre-wrap;\n",
       "}\n",
       "</style>\n",
       "<small>shape: (3, 2)</small><table border=\"1\" class=\"dataframe\"><thead><tr><th>gender</th><th>count</th></tr><tr><td>str</td><td>u32</td></tr></thead><tbody><tr><td>&quot;女性&quot;</td><td>17918</td></tr><tr><td>&quot;男性&quot;</td><td>2981</td></tr><tr><td>&quot;不明&quot;</td><td>1072</td></tr></tbody></table></div>"
      ],
      "text/plain": [
       "shape: (3, 2)\n",
       "┌────────┬───────┐\n",
       "│ gender ┆ count │\n",
       "│ ---    ┆ ---   │\n",
       "│ str    ┆ u32   │\n",
       "╞════════╪═══════╡\n",
       "│ 女性   ┆ 17918 │\n",
       "│ 男性   ┆ 2981  │\n",
       "│ 不明   ┆ 1072  │\n",
       "└────────┴───────┘"
      ]
     },
     "execution_count": 91,
     "metadata": {},
     "output_type": "execute_result"
    }
   ],
   "source": [
    "df_customer['gender'].value_counts()"
   ]
  },
  {
   "cell_type": "markdown",
   "id": "0b2e5e10-c7fd-4843-a2fe-105b5ab90120",
   "metadata": {},
   "source": [
    "### store"
   ]
  },
  {
   "cell_type": "code",
   "execution_count": 6,
   "id": "b0f662f1-ceb6-40f4-b89b-e062eac22b7e",
   "metadata": {
    "tags": []
   },
   "outputs": [
    {
     "data": {
      "text/html": [
       "<div><style>\n",
       ".dataframe > thead > tr,\n",
       ".dataframe > tbody > tr {\n",
       "  text-align: right;\n",
       "  white-space: pre-wrap;\n",
       "}\n",
       "</style>\n",
       "<small>shape: (53, 10)</small><table border=\"1\" class=\"dataframe\"><thead><tr><th>store_cd</th><th>store_name</th><th>prefecture_cd</th><th>prefecture</th><th>address</th><th>address_kana</th><th>tel_no</th><th>longitude</th><th>latitude</th><th>floor_area</th></tr><tr><td>str</td><td>str</td><td>i64</td><td>str</td><td>str</td><td>str</td><td>str</td><td>f64</td><td>f64</td><td>f64</td></tr></thead><tbody><tr><td>&quot;S12014&quot;</td><td>&quot;千草台店&quot;</td><td>12</td><td>&quot;千葉県&quot;</td><td>&quot;千葉県千葉市稲毛区千草台一丁…</td><td>&quot;チバケンチバシイナゲクチグサ…</td><td>&quot;043-123-4003&quot;</td><td>140.118</td><td>35.63559</td><td>1698.0</td></tr><tr><td>&quot;S13002&quot;</td><td>&quot;国分寺店&quot;</td><td>13</td><td>&quot;東京都&quot;</td><td>&quot;東京都国分寺市本多二丁目&quot;</td><td>&quot;トウキョウトコクブンジシホン…</td><td>&quot;042-123-4008&quot;</td><td>139.4802</td><td>35.70566</td><td>1735.0</td></tr><tr><td>&quot;S14010&quot;</td><td>&quot;菊名店&quot;</td><td>14</td><td>&quot;神奈川県&quot;</td><td>&quot;神奈川県横浜市港北区菊名一丁…</td><td>&quot;カナガワケンヨコハマシコウホ…</td><td>&quot;045-123-4032&quot;</td><td>139.6326</td><td>35.50049</td><td>1732.0</td></tr><tr><td>&quot;S14033&quot;</td><td>&quot;阿久和店&quot;</td><td>14</td><td>&quot;神奈川県&quot;</td><td>&quot;神奈川県横浜市瀬谷区阿久和西…</td><td>&quot;カナガワケンヨコハマシセヤク…</td><td>&quot;045-123-4043&quot;</td><td>139.4961</td><td>35.45918</td><td>1495.0</td></tr><tr><td>&quot;S14036&quot;</td><td>&quot;相模原中央店&quot;</td><td>14</td><td>&quot;神奈川県&quot;</td><td>&quot;神奈川県相模原市中央二丁目&quot;</td><td>&quot;カナガワケンサガミハラシチュ…</td><td>&quot;042-123-4045&quot;</td><td>139.3716</td><td>35.57327</td><td>1679.0</td></tr><tr><td>&hellip;</td><td>&hellip;</td><td>&hellip;</td><td>&hellip;</td><td>&hellip;</td><td>&hellip;</td><td>&hellip;</td><td>&hellip;</td><td>&hellip;</td><td>&hellip;</td></tr><tr><td>&quot;S13003&quot;</td><td>&quot;狛江店&quot;</td><td>13</td><td>&quot;東京都&quot;</td><td>&quot;東京都狛江市和泉本町四丁目&quot;</td><td>&quot;トウキョウトコマエシイズミホ…</td><td>&quot;03-0123-4009&quot;</td><td>139.5668</td><td>35.64462</td><td>1529.0</td></tr><tr><td>&quot;S12053&quot;</td><td>&quot;高洲店&quot;</td><td>12</td><td>&quot;千葉県&quot;</td><td>&quot;千葉県浦安市高洲五丁目&quot;</td><td>&quot;チバケンウラヤスシタカスゴチ…</td><td>&quot;047-123-4006&quot;</td><td>139.9176</td><td>35.63755</td><td>1555.0</td></tr><tr><td>&quot;S13037&quot;</td><td>&quot;南砂一丁目店&quot;</td><td>13</td><td>&quot;東京都&quot;</td><td>&quot;東京都江東区南砂一丁目&quot;</td><td>&quot;トウキョウトコウトウクミナミ…</td><td>&quot;03-0123-4023&quot;</td><td>139.8215</td><td>35.67898</td><td>814.0</td></tr><tr><td>&quot;S14024&quot;</td><td>&quot;三田店&quot;</td><td>14</td><td>&quot;神奈川県&quot;</td><td>&quot;神奈川県川崎市多摩区三田四丁…</td><td>&quot;カナガワケンカワサキシタマク…</td><td>&quot;044-123-4038&quot;</td><td>139.5424</td><td>35.6077</td><td>972.0</td></tr><tr><td>&quot;S14006&quot;</td><td>&quot;葛が谷店&quot;</td><td>14</td><td>&quot;神奈川県&quot;</td><td>&quot;神奈川県横浜市都筑区葛が谷&quot;</td><td>&quot;カナガワケンヨコハマシツヅキ…</td><td>&quot;045-123-4031&quot;</td><td>139.5633</td><td>35.53573</td><td>1886.0</td></tr></tbody></table></div>"
      ],
      "text/plain": [
       "shape: (53, 10)\n",
       "┌──────────┬────────────┬───────────┬───────────┬───┬───────────┬───────────┬──────────┬───────────┐\n",
       "│ store_cd ┆ store_name ┆ prefectur ┆ prefectur ┆ … ┆ tel_no    ┆ longitude ┆ latitude ┆ floor_are │\n",
       "│ ---      ┆ ---        ┆ e_cd      ┆ e         ┆   ┆ ---       ┆ ---       ┆ ---      ┆ a         │\n",
       "│ str      ┆ str        ┆ ---       ┆ ---       ┆   ┆ str       ┆ f64       ┆ f64      ┆ ---       │\n",
       "│          ┆            ┆ i64       ┆ str       ┆   ┆           ┆           ┆          ┆ f64       │\n",
       "╞══════════╪════════════╪═══════════╪═══════════╪═══╪═══════════╪═══════════╪══════════╪═══════════╡\n",
       "│ S12014   ┆ 千草台店   ┆ 12        ┆ 千葉県    ┆ … ┆ 043-123-4 ┆ 140.118   ┆ 35.63559 ┆ 1698.0    │\n",
       "│          ┆            ┆           ┆           ┆   ┆ 003       ┆           ┆          ┆           │\n",
       "│ S13002   ┆ 国分寺店   ┆ 13        ┆ 東京都    ┆ … ┆ 042-123-4 ┆ 139.4802  ┆ 35.70566 ┆ 1735.0    │\n",
       "│          ┆            ┆           ┆           ┆   ┆ 008       ┆           ┆          ┆           │\n",
       "│ S14010   ┆ 菊名店     ┆ 14        ┆ 神奈川県  ┆ … ┆ 045-123-4 ┆ 139.6326  ┆ 35.50049 ┆ 1732.0    │\n",
       "│          ┆            ┆           ┆           ┆   ┆ 032       ┆           ┆          ┆           │\n",
       "│ S14033   ┆ 阿久和店   ┆ 14        ┆ 神奈川県  ┆ … ┆ 045-123-4 ┆ 139.4961  ┆ 35.45918 ┆ 1495.0    │\n",
       "│          ┆            ┆           ┆           ┆   ┆ 043       ┆           ┆          ┆           │\n",
       "│ S14036   ┆ 相模原中央 ┆ 14        ┆ 神奈川県  ┆ … ┆ 042-123-4 ┆ 139.3716  ┆ 35.57327 ┆ 1679.0    │\n",
       "│          ┆ 店         ┆           ┆           ┆   ┆ 045       ┆           ┆          ┆           │\n",
       "│ …        ┆ …          ┆ …         ┆ …         ┆ … ┆ …         ┆ …         ┆ …        ┆ …         │\n",
       "│ S13003   ┆ 狛江店     ┆ 13        ┆ 東京都    ┆ … ┆ 03-0123-4 ┆ 139.5668  ┆ 35.64462 ┆ 1529.0    │\n",
       "│          ┆            ┆           ┆           ┆   ┆ 009       ┆           ┆          ┆           │\n",
       "│ S12053   ┆ 高洲店     ┆ 12        ┆ 千葉県    ┆ … ┆ 047-123-4 ┆ 139.9176  ┆ 35.63755 ┆ 1555.0    │\n",
       "│          ┆            ┆           ┆           ┆   ┆ 006       ┆           ┆          ┆           │\n",
       "│ S13037   ┆ 南砂一丁目 ┆ 13        ┆ 東京都    ┆ … ┆ 03-0123-4 ┆ 139.8215  ┆ 35.67898 ┆ 814.0     │\n",
       "│          ┆ 店         ┆           ┆           ┆   ┆ 023       ┆           ┆          ┆           │\n",
       "│ S14024   ┆ 三田店     ┆ 14        ┆ 神奈川県  ┆ … ┆ 044-123-4 ┆ 139.5424  ┆ 35.6077  ┆ 972.0     │\n",
       "│          ┆            ┆           ┆           ┆   ┆ 038       ┆           ┆          ┆           │\n",
       "│ S14006   ┆ 葛が谷店   ┆ 14        ┆ 神奈川県  ┆ … ┆ 045-123-4 ┆ 139.5633  ┆ 35.53573 ┆ 1886.0    │\n",
       "│          ┆            ┆           ┆           ┆   ┆ 031       ┆           ┆          ┆           │\n",
       "└──────────┴────────────┴───────────┴───────────┴───┴───────────┴───────────┴──────────┴───────────┘"
      ]
     },
     "execution_count": 6,
     "metadata": {},
     "output_type": "execute_result"
    }
   ],
   "source": [
    "df_store = pl.read_csv(\"./data/store.csv\")\n",
    "df_store"
   ]
  },
  {
   "cell_type": "code",
   "execution_count": 16,
   "id": "aa6d4a43-5975-420d-9cd1-758926c616ca",
   "metadata": {
    "tags": []
   },
   "outputs": [
    {
     "data": {
      "text/plain": [
       "True"
      ]
     },
     "execution_count": 16,
     "metadata": {},
     "output_type": "execute_result"
    }
   ],
   "source": [
    "df_store.shape[0] == df_store['store_cd'].n_unique()"
   ]
  },
  {
   "cell_type": "markdown",
   "id": "dadf32a0-41a9-448a-a707-7e922acae340",
   "metadata": {},
   "source": [
    "### geocode"
   ]
  },
  {
   "cell_type": "code",
   "execution_count": 4,
   "id": "1b04712e-a993-4f24-806b-5cdf0e271ec3",
   "metadata": {
    "tags": []
   },
   "outputs": [
    {
     "data": {
      "text/html": [
       "<div><style>\n",
       ".dataframe > thead > tr,\n",
       ".dataframe > tbody > tr {\n",
       "  text-align: right;\n",
       "  white-space: pre-wrap;\n",
       "}\n",
       "</style>\n",
       "<small>shape: (127_252, 9)</small><table border=\"1\" class=\"dataframe\"><thead><tr><th>postal_cd</th><th>prefecture</th><th>city</th><th>town</th><th>street</th><th>address</th><th>full_address</th><th>longitude</th><th>latitude</th></tr><tr><td>str</td><td>str</td><td>str</td><td>str</td><td>str</td><td>str</td><td>str</td><td>f64</td><td>f64</td></tr></thead><tbody><tr><td>&quot;060-0000&quot;</td><td>&quot;北海道&quot;</td><td>&quot;札幌市中央区&quot;</td><td>null</td><td>null</td><td>null</td><td>&quot;北海道札幌市中央区&quot;</td><td>141.34103</td><td>43.05513</td></tr><tr><td>&quot;064-0941&quot;</td><td>&quot;北海道&quot;</td><td>&quot;札幌市中央区&quot;</td><td>&quot;旭ケ丘&quot;</td><td>null</td><td>null</td><td>&quot;北海道札幌市中央区旭ケ丘&quot;</td><td>141.31972</td><td>43.04223</td></tr><tr><td>&quot;060-0042&quot;</td><td>&quot;北海道&quot;</td><td>&quot;札幌市中央区&quot;</td><td>&quot;大通西&quot;</td><td>null</td><td>&quot;１丁目&quot;</td><td>&quot;北海道札幌市中央区大通西１丁…</td><td>141.35637</td><td>43.06102</td></tr><tr><td>&quot;060-0042&quot;</td><td>&quot;北海道&quot;</td><td>&quot;札幌市中央区&quot;</td><td>&quot;大通西&quot;</td><td>null</td><td>&quot;２丁目&quot;</td><td>&quot;北海道札幌市中央区大通西２丁…</td><td>141.35445</td><td>43.0608</td></tr><tr><td>&quot;060-0042&quot;</td><td>&quot;北海道&quot;</td><td>&quot;札幌市中央区&quot;</td><td>&quot;大通西&quot;</td><td>null</td><td>&quot;３丁目&quot;</td><td>&quot;北海道札幌市中央区大通西３丁…</td><td>141.35275</td><td>43.06086</td></tr><tr><td>&hellip;</td><td>&hellip;</td><td>&hellip;</td><td>&hellip;</td><td>&hellip;</td><td>&hellip;</td><td>&hellip;</td><td>&hellip;</td><td>&hellip;</td></tr><tr><td>&quot;907-1433&quot;</td><td>&quot;沖縄県&quot;</td><td>&quot;八重山郡竹富町&quot;</td><td>&quot;南風見仲&quot;</td><td>null</td><td>null</td><td>&quot;沖縄県八重山郡竹富町南風見仲…</td><td>123.88795</td><td>24.2882</td></tr><tr><td>&quot;907-1751&quot;</td><td>&quot;沖縄県&quot;</td><td>&quot;八重山郡竹富町&quot;</td><td>&quot;波照間&quot;</td><td>null</td><td>null</td><td>&quot;沖縄県八重山郡竹富町波照間&quot;</td><td>123.78243</td><td>24.05859</td></tr><tr><td>&quot;907-1544&quot;</td><td>&quot;沖縄県&quot;</td><td>&quot;八重山郡竹富町&quot;</td><td>&quot;鳩間&quot;</td><td>null</td><td>null</td><td>&quot;沖縄県八重山郡竹富町鳩間&quot;</td><td>123.82043</td><td>24.47225</td></tr><tr><td>&quot;907-1800&quot;</td><td>&quot;沖縄県&quot;</td><td>&quot;八重山郡与那国町&quot;</td><td>null</td><td>null</td><td>null</td><td>&quot;沖縄県八重山郡与那国町&quot;</td><td>123.00434</td><td>24.46812</td></tr><tr><td>&quot;907-1801&quot;</td><td>&quot;沖縄県&quot;</td><td>&quot;八重山郡与那国町&quot;</td><td>&quot;与那国&quot;</td><td>null</td><td>null</td><td>&quot;沖縄県八重山郡与那国町与那国…</td><td>122.98768</td><td>24.45592</td></tr></tbody></table></div>"
      ],
      "text/plain": [
       "shape: (127_252, 9)\n",
       "┌───────────┬────────────┬────────────┬──────────┬───┬─────────┬────────────┬───────────┬──────────┐\n",
       "│ postal_cd ┆ prefecture ┆ city       ┆ town     ┆ … ┆ address ┆ full_addre ┆ longitude ┆ latitude │\n",
       "│ ---       ┆ ---        ┆ ---        ┆ ---      ┆   ┆ ---     ┆ ss         ┆ ---       ┆ ---      │\n",
       "│ str       ┆ str        ┆ str        ┆ str      ┆   ┆ str     ┆ ---        ┆ f64       ┆ f64      │\n",
       "│           ┆            ┆            ┆          ┆   ┆         ┆ str        ┆           ┆          │\n",
       "╞═══════════╪════════════╪════════════╪══════════╪═══╪═════════╪════════════╪═══════════╪══════════╡\n",
       "│ 060-0000  ┆ 北海道     ┆ 札幌市中央 ┆ null     ┆ … ┆ null    ┆ 北海道札幌 ┆ 141.34103 ┆ 43.05513 │\n",
       "│           ┆            ┆ 区         ┆          ┆   ┆         ┆ 市中央区   ┆           ┆          │\n",
       "│ 064-0941  ┆ 北海道     ┆ 札幌市中央 ┆ 旭ケ丘   ┆ … ┆ null    ┆ 北海道札幌 ┆ 141.31972 ┆ 43.04223 │\n",
       "│           ┆            ┆ 区         ┆          ┆   ┆         ┆ 市中央区旭 ┆           ┆          │\n",
       "│           ┆            ┆            ┆          ┆   ┆         ┆ ケ丘       ┆           ┆          │\n",
       "│ 060-0042  ┆ 北海道     ┆ 札幌市中央 ┆ 大通西   ┆ … ┆ １丁目  ┆ 北海道札幌 ┆ 141.35637 ┆ 43.06102 │\n",
       "│           ┆            ┆ 区         ┆          ┆   ┆         ┆ 市中央区大 ┆           ┆          │\n",
       "│           ┆            ┆            ┆          ┆   ┆         ┆ 通西１丁目 ┆           ┆          │\n",
       "│ 060-0042  ┆ 北海道     ┆ 札幌市中央 ┆ 大通西   ┆ … ┆ ２丁目  ┆ 北海道札幌 ┆ 141.35445 ┆ 43.0608  │\n",
       "│           ┆            ┆ 区         ┆          ┆   ┆         ┆ 市中央区大 ┆           ┆          │\n",
       "│           ┆            ┆            ┆          ┆   ┆         ┆ 通西２丁目 ┆           ┆          │\n",
       "│ 060-0042  ┆ 北海道     ┆ 札幌市中央 ┆ 大通西   ┆ … ┆ ３丁目  ┆ 北海道札幌 ┆ 141.35275 ┆ 43.06086 │\n",
       "│           ┆            ┆ 区         ┆          ┆   ┆         ┆ 市中央区大 ┆           ┆          │\n",
       "│           ┆            ┆            ┆          ┆   ┆         ┆ 通西３丁目 ┆           ┆          │\n",
       "│ …         ┆ …          ┆ …          ┆ …        ┆ … ┆ …       ┆ …          ┆ …         ┆ …        │\n",
       "│ 907-1433  ┆ 沖縄県     ┆ 八重山郡竹 ┆ 南風見仲 ┆ … ┆ null    ┆ 沖縄県八重 ┆ 123.88795 ┆ 24.2882  │\n",
       "│           ┆            ┆ 富町       ┆          ┆   ┆         ┆ 山郡竹富町 ┆           ┆          │\n",
       "│           ┆            ┆            ┆          ┆   ┆         ┆ 南風見仲   ┆           ┆          │\n",
       "│ 907-1751  ┆ 沖縄県     ┆ 八重山郡竹 ┆ 波照間   ┆ … ┆ null    ┆ 沖縄県八重 ┆ 123.78243 ┆ 24.05859 │\n",
       "│           ┆            ┆ 富町       ┆          ┆   ┆         ┆ 山郡竹富町 ┆           ┆          │\n",
       "│           ┆            ┆            ┆          ┆   ┆         ┆ 波照間     ┆           ┆          │\n",
       "│ 907-1544  ┆ 沖縄県     ┆ 八重山郡竹 ┆ 鳩間     ┆ … ┆ null    ┆ 沖縄県八重 ┆ 123.82043 ┆ 24.47225 │\n",
       "│           ┆            ┆ 富町       ┆          ┆   ┆         ┆ 山郡竹富町 ┆           ┆          │\n",
       "│           ┆            ┆            ┆          ┆   ┆         ┆ 鳩間       ┆           ┆          │\n",
       "│ 907-1800  ┆ 沖縄県     ┆ 八重山郡与 ┆ null     ┆ … ┆ null    ┆ 沖縄県八重 ┆ 123.00434 ┆ 24.46812 │\n",
       "│           ┆            ┆ 那国町     ┆          ┆   ┆         ┆ 山郡与那国 ┆           ┆          │\n",
       "│           ┆            ┆            ┆          ┆   ┆         ┆ 町         ┆           ┆          │\n",
       "│ 907-1801  ┆ 沖縄県     ┆ 八重山郡与 ┆ 与那国   ┆ … ┆ null    ┆ 沖縄県八重 ┆ 122.98768 ┆ 24.45592 │\n",
       "│           ┆            ┆ 那国町     ┆          ┆   ┆         ┆ 山郡与那国 ┆           ┆          │\n",
       "│           ┆            ┆            ┆          ┆   ┆         ┆ 町与那国   ┆           ┆          │\n",
       "└───────────┴────────────┴────────────┴──────────┴───┴─────────┴────────────┴───────────┴──────────┘"
      ]
     },
     "execution_count": 4,
     "metadata": {},
     "output_type": "execute_result"
    }
   ],
   "source": [
    "df_geocode = pl.read_csv(\"./data/geocode.csv\")\n",
    "df_geocode"
   ]
  },
  {
   "cell_type": "code",
   "execution_count": 20,
   "id": "f13a684a-44bc-4309-888e-dfcabd83ab75",
   "metadata": {
    "tags": []
   },
   "outputs": [
    {
     "data": {
      "text/plain": [
       "False"
      ]
     },
     "execution_count": 20,
     "metadata": {},
     "output_type": "execute_result"
    }
   ],
   "source": [
    "df_geocode.shape[0] == df_geocode['full_address'].n_unique()"
   ]
  },
  {
   "cell_type": "markdown",
   "id": "8a973497-7ca7-4f16-aab7-064cacf4dc1b",
   "metadata": {},
   "source": [
    "### product"
   ]
  },
  {
   "cell_type": "code",
   "execution_count": 5,
   "id": "a5e0ffb8-c6b8-415b-baae-ae01f07a2e07",
   "metadata": {
    "tags": []
   },
   "outputs": [
    {
     "data": {
      "text/html": [
       "<div><style>\n",
       ".dataframe > thead > tr,\n",
       ".dataframe > tbody > tr {\n",
       "  text-align: right;\n",
       "  white-space: pre-wrap;\n",
       "}\n",
       "</style>\n",
       "<small>shape: (10_030, 6)</small><table border=\"1\" class=\"dataframe\"><thead><tr><th>product_cd</th><th>category_major_cd</th><th>category_medium_cd</th><th>category_small_cd</th><th>unit_price</th><th>unit_cost</th></tr><tr><td>str</td><td>i64</td><td>i64</td><td>i64</td><td>i64</td><td>i64</td></tr></thead><tbody><tr><td>&quot;P040101001&quot;</td><td>4</td><td>401</td><td>40101</td><td>198</td><td>149</td></tr><tr><td>&quot;P040101002&quot;</td><td>4</td><td>401</td><td>40101</td><td>218</td><td>164</td></tr><tr><td>&quot;P040101003&quot;</td><td>4</td><td>401</td><td>40101</td><td>230</td><td>173</td></tr><tr><td>&quot;P040101004&quot;</td><td>4</td><td>401</td><td>40101</td><td>248</td><td>186</td></tr><tr><td>&quot;P040101005&quot;</td><td>4</td><td>401</td><td>40101</td><td>268</td><td>201</td></tr><tr><td>&hellip;</td><td>&hellip;</td><td>&hellip;</td><td>&hellip;</td><td>&hellip;</td><td>&hellip;</td></tr><tr><td>&quot;P091503001&quot;</td><td>9</td><td>915</td><td>91503</td><td>280</td><td>210</td></tr><tr><td>&quot;P091503002&quot;</td><td>9</td><td>915</td><td>91503</td><td>680</td><td>510</td></tr><tr><td>&quot;P091503003&quot;</td><td>9</td><td>915</td><td>91503</td><td>1080</td><td>810</td></tr><tr><td>&quot;P091503004&quot;</td><td>9</td><td>915</td><td>91503</td><td>1130</td><td>848</td></tr><tr><td>&quot;P091503005&quot;</td><td>9</td><td>915</td><td>91503</td><td>1280</td><td>960</td></tr></tbody></table></div>"
      ],
      "text/plain": [
       "shape: (10_030, 6)\n",
       "┌────────────┬───────────────────┬────────────────────┬───────────────────┬────────────┬───────────┐\n",
       "│ product_cd ┆ category_major_cd ┆ category_medium_cd ┆ category_small_cd ┆ unit_price ┆ unit_cost │\n",
       "│ ---        ┆ ---               ┆ ---                ┆ ---               ┆ ---        ┆ ---       │\n",
       "│ str        ┆ i64               ┆ i64                ┆ i64               ┆ i64        ┆ i64       │\n",
       "╞════════════╪═══════════════════╪════════════════════╪═══════════════════╪════════════╪═══════════╡\n",
       "│ P040101001 ┆ 4                 ┆ 401                ┆ 40101             ┆ 198        ┆ 149       │\n",
       "│ P040101002 ┆ 4                 ┆ 401                ┆ 40101             ┆ 218        ┆ 164       │\n",
       "│ P040101003 ┆ 4                 ┆ 401                ┆ 40101             ┆ 230        ┆ 173       │\n",
       "│ P040101004 ┆ 4                 ┆ 401                ┆ 40101             ┆ 248        ┆ 186       │\n",
       "│ P040101005 ┆ 4                 ┆ 401                ┆ 40101             ┆ 268        ┆ 201       │\n",
       "│ …          ┆ …                 ┆ …                  ┆ …                 ┆ …          ┆ …         │\n",
       "│ P091503001 ┆ 9                 ┆ 915                ┆ 91503             ┆ 280        ┆ 210       │\n",
       "│ P091503002 ┆ 9                 ┆ 915                ┆ 91503             ┆ 680        ┆ 510       │\n",
       "│ P091503003 ┆ 9                 ┆ 915                ┆ 91503             ┆ 1080       ┆ 810       │\n",
       "│ P091503004 ┆ 9                 ┆ 915                ┆ 91503             ┆ 1130       ┆ 848       │\n",
       "│ P091503005 ┆ 9                 ┆ 915                ┆ 91503             ┆ 1280       ┆ 960       │\n",
       "└────────────┴───────────────────┴────────────────────┴───────────────────┴────────────┴───────────┘"
      ]
     },
     "execution_count": 5,
     "metadata": {},
     "output_type": "execute_result"
    }
   ],
   "source": [
    "df_product = pl.read_csv(\"./data/product.csv\")\n",
    "df_product"
   ]
  },
  {
   "cell_type": "code",
   "execution_count": null,
   "id": "a2cdd2e8-1bdc-471b-b901-074b90569b00",
   "metadata": {},
   "outputs": [],
   "source": []
  },
  {
   "cell_type": "markdown",
   "id": "a546808d-a26c-476f-9933-4dd4ffa356f0",
   "metadata": {},
   "source": [
    "### トランザクションログ"
   ]
  },
  {
   "cell_type": "markdown",
   "id": "3644c42b-583c-4e8b-95cd-7bf63cd069b2",
   "metadata": {},
   "source": [
    "### receipt"
   ]
  },
  {
   "cell_type": "code",
   "execution_count": 30,
   "id": "31c2e581-aca1-48b1-b4f6-4ab8a415196e",
   "metadata": {
    "tags": []
   },
   "outputs": [
    {
     "data": {
      "text/html": [
       "<div><style>\n",
       ".dataframe > thead > tr,\n",
       ".dataframe > tbody > tr {\n",
       "  text-align: right;\n",
       "  white-space: pre-wrap;\n",
       "}\n",
       "</style>\n",
       "<small>shape: (104_681, 9)</small><table border=\"1\" class=\"dataframe\"><thead><tr><th>sales_ymd</th><th>sales_epoch</th><th>store_cd</th><th>receipt_no</th><th>receipt_sub_no</th><th>customer_id</th><th>product_cd</th><th>quantity</th><th>amount</th></tr><tr><td>i64</td><td>i64</td><td>str</td><td>i64</td><td>i64</td><td>str</td><td>str</td><td>i64</td><td>i64</td></tr></thead><tbody><tr><td>20181103</td><td>1541203200</td><td>&quot;S14006&quot;</td><td>112</td><td>1</td><td>&quot;CS006214000001…</td><td>&quot;P070305012&quot;</td><td>1</td><td>158</td></tr><tr><td>20181118</td><td>1542499200</td><td>&quot;S13008&quot;</td><td>1132</td><td>2</td><td>&quot;CS008415000097…</td><td>&quot;P070701017&quot;</td><td>1</td><td>81</td></tr><tr><td>20170712</td><td>1499817600</td><td>&quot;S14028&quot;</td><td>1102</td><td>1</td><td>&quot;CS028414000014…</td><td>&quot;P060101005&quot;</td><td>1</td><td>170</td></tr><tr><td>20190205</td><td>1549324800</td><td>&quot;S14042&quot;</td><td>1132</td><td>1</td><td>&quot;ZZ000000000000…</td><td>&quot;P050301001&quot;</td><td>1</td><td>25</td></tr><tr><td>20180821</td><td>1534809600</td><td>&quot;S14025&quot;</td><td>1102</td><td>2</td><td>&quot;CS025415000050…</td><td>&quot;P060102007&quot;</td><td>1</td><td>90</td></tr><tr><td>&hellip;</td><td>&hellip;</td><td>&hellip;</td><td>&hellip;</td><td>&hellip;</td><td>&hellip;</td><td>&hellip;</td><td>&hellip;</td><td>&hellip;</td></tr><tr><td>20180221</td><td>1519171200</td><td>&quot;S13043&quot;</td><td>1132</td><td>2</td><td>&quot;ZZ000000000000…</td><td>&quot;P050101001&quot;</td><td>1</td><td>40</td></tr><tr><td>20190911</td><td>1568160000</td><td>&quot;S14047&quot;</td><td>1132</td><td>2</td><td>&quot;ZZ000000000000…</td><td>&quot;P071006005&quot;</td><td>1</td><td>218</td></tr><tr><td>20170311</td><td>1489190400</td><td>&quot;S14040&quot;</td><td>1122</td><td>1</td><td>&quot;CS040513000195…</td><td>&quot;P050405003&quot;</td><td>1</td><td>168</td></tr><tr><td>20170331</td><td>1490918400</td><td>&quot;S13002&quot;</td><td>1142</td><td>1</td><td>&quot;CS002513000049…</td><td>&quot;P060303001&quot;</td><td>1</td><td>148</td></tr><tr><td>20190423</td><td>1555977600</td><td>&quot;S13016&quot;</td><td>1102</td><td>2</td><td>&quot;ZZ000000000000…</td><td>&quot;P050601001&quot;</td><td>1</td><td>138</td></tr></tbody></table></div>"
      ],
      "text/plain": [
       "shape: (104_681, 9)\n",
       "┌───────────┬────────────┬──────────┬────────────┬───┬────────────┬────────────┬──────────┬────────┐\n",
       "│ sales_ymd ┆ sales_epoc ┆ store_cd ┆ receipt_no ┆ … ┆ customer_i ┆ product_cd ┆ quantity ┆ amount │\n",
       "│ ---       ┆ h          ┆ ---      ┆ ---        ┆   ┆ d          ┆ ---        ┆ ---      ┆ ---    │\n",
       "│ i64       ┆ ---        ┆ str      ┆ i64        ┆   ┆ ---        ┆ str        ┆ i64      ┆ i64    │\n",
       "│           ┆ i64        ┆          ┆            ┆   ┆ str        ┆            ┆          ┆        │\n",
       "╞═══════════╪════════════╪══════════╪════════════╪═══╪════════════╪════════════╪══════════╪════════╡\n",
       "│ 20181103  ┆ 1541203200 ┆ S14006   ┆ 112        ┆ … ┆ CS00621400 ┆ P070305012 ┆ 1        ┆ 158    │\n",
       "│           ┆            ┆          ┆            ┆   ┆ 0001       ┆            ┆          ┆        │\n",
       "│ 20181118  ┆ 1542499200 ┆ S13008   ┆ 1132       ┆ … ┆ CS00841500 ┆ P070701017 ┆ 1        ┆ 81     │\n",
       "│           ┆            ┆          ┆            ┆   ┆ 0097       ┆            ┆          ┆        │\n",
       "│ 20170712  ┆ 1499817600 ┆ S14028   ┆ 1102       ┆ … ┆ CS02841400 ┆ P060101005 ┆ 1        ┆ 170    │\n",
       "│           ┆            ┆          ┆            ┆   ┆ 0014       ┆            ┆          ┆        │\n",
       "│ 20190205  ┆ 1549324800 ┆ S14042   ┆ 1132       ┆ … ┆ ZZ00000000 ┆ P050301001 ┆ 1        ┆ 25     │\n",
       "│           ┆            ┆          ┆            ┆   ┆ 0000       ┆            ┆          ┆        │\n",
       "│ 20180821  ┆ 1534809600 ┆ S14025   ┆ 1102       ┆ … ┆ CS02541500 ┆ P060102007 ┆ 1        ┆ 90     │\n",
       "│           ┆            ┆          ┆            ┆   ┆ 0050       ┆            ┆          ┆        │\n",
       "│ …         ┆ …          ┆ …        ┆ …          ┆ … ┆ …          ┆ …          ┆ …        ┆ …      │\n",
       "│ 20180221  ┆ 1519171200 ┆ S13043   ┆ 1132       ┆ … ┆ ZZ00000000 ┆ P050101001 ┆ 1        ┆ 40     │\n",
       "│           ┆            ┆          ┆            ┆   ┆ 0000       ┆            ┆          ┆        │\n",
       "│ 20190911  ┆ 1568160000 ┆ S14047   ┆ 1132       ┆ … ┆ ZZ00000000 ┆ P071006005 ┆ 1        ┆ 218    │\n",
       "│           ┆            ┆          ┆            ┆   ┆ 0000       ┆            ┆          ┆        │\n",
       "│ 20170311  ┆ 1489190400 ┆ S14040   ┆ 1122       ┆ … ┆ CS04051300 ┆ P050405003 ┆ 1        ┆ 168    │\n",
       "│           ┆            ┆          ┆            ┆   ┆ 0195       ┆            ┆          ┆        │\n",
       "│ 20170331  ┆ 1490918400 ┆ S13002   ┆ 1142       ┆ … ┆ CS00251300 ┆ P060303001 ┆ 1        ┆ 148    │\n",
       "│           ┆            ┆          ┆            ┆   ┆ 0049       ┆            ┆          ┆        │\n",
       "│ 20190423  ┆ 1555977600 ┆ S13016   ┆ 1102       ┆ … ┆ ZZ00000000 ┆ P050601001 ┆ 1        ┆ 138    │\n",
       "│           ┆            ┆          ┆            ┆   ┆ 0000       ┆            ┆          ┆        │\n",
       "└───────────┴────────────┴──────────┴────────────┴───┴────────────┴────────────┴──────────┴────────┘"
      ]
     },
     "execution_count": 30,
     "metadata": {},
     "output_type": "execute_result"
    }
   ],
   "source": [
    "df_receipt = pl.read_csv(\"./data/receipt.csv\")\n",
    "df_receipt"
   ]
  },
  {
   "cell_type": "code",
   "execution_count": 53,
   "id": "79f34f6f-d564-42ea-9a8c-352c8b0eeb0a",
   "metadata": {
    "tags": []
   },
   "outputs": [
    {
     "data": {
      "text/plain": [
       "True"
      ]
     },
     "execution_count": 53,
     "metadata": {},
     "output_type": "execute_result"
    }
   ],
   "source": [
    "df_receipt.shape[0] == df_receipt.n_unique()"
   ]
  },
  {
   "cell_type": "code",
   "execution_count": 31,
   "id": "a1a36faa-1910-466d-9df0-8f555b2bfb21",
   "metadata": {},
   "outputs": [
    {
     "data": {
      "text/plain": [
       "False"
      ]
     },
     "execution_count": 31,
     "metadata": {},
     "output_type": "execute_result"
    }
   ],
   "source": [
    "df_receipt.shape[0] == df_receipt['receipt_no'].n_unique()"
   ]
  },
  {
   "cell_type": "code",
   "execution_count": 54,
   "id": "2cd9be63-ac2f-46f9-b610-eef4eeacf57b",
   "metadata": {
    "tags": []
   },
   "outputs": [
    {
     "data": {
      "text/plain": [
       "False"
      ]
     },
     "execution_count": 54,
     "metadata": {},
     "output_type": "execute_result"
    }
   ],
   "source": [
    "df_receipt.shape[0] == df_receipt[['receipt_no', 'receipt_sub_no']].map_rows(lambda x: str(x[0])+'_'+str(x[1])).n_unique()"
   ]
  },
  {
   "cell_type": "code",
   "execution_count": 55,
   "id": "4ffd09e1-a414-4d89-8fec-6f095f3c819e",
   "metadata": {
    "tags": []
   },
   "outputs": [
    {
     "data": {
      "text/plain": [
       "False"
      ]
     },
     "execution_count": 55,
     "metadata": {},
     "output_type": "execute_result"
    }
   ],
   "source": [
    "df_receipt.shape[0] == df_receipt[['sales_ymd', 'sales_epoch']].map_rows(lambda x: str(x[0])+'_'+str(x[1])).n_unique()"
   ]
  },
  {
   "cell_type": "code",
   "execution_count": 56,
   "id": "f1d27470-c72c-4ec0-b8b5-e9d7ca5ac374",
   "metadata": {
    "tags": []
   },
   "outputs": [
    {
     "data": {
      "text/plain": [
       "False"
      ]
     },
     "execution_count": 56,
     "metadata": {},
     "output_type": "execute_result"
    }
   ],
   "source": [
    "df_receipt.shape[0] == df_receipt[['sales_ymd', 'sales_epoch', 'receipt_no', 'receipt_sub_no']].map_rows(lambda x: '_'.join(str(xx) for xx in x)).n_unique()"
   ]
  },
  {
   "cell_type": "code",
   "execution_count": 57,
   "id": "f563eb4c-7d92-4cc6-9f64-7a0b1b4b5725",
   "metadata": {
    "tags": []
   },
   "outputs": [
    {
     "data": {
      "text/plain": [
       "False"
      ]
     },
     "execution_count": 57,
     "metadata": {},
     "output_type": "execute_result"
    }
   ],
   "source": [
    "df_receipt.shape[0] == df_receipt[['sales_epoch', 'customer_id', 'store_cd', 'product_cd']].map_rows(lambda x: '_'.join(str(xx) for xx in x)).n_unique()"
   ]
  },
  {
   "cell_type": "markdown",
   "id": "be34c07b-4c30-4ea9-8922-3bbc097034ba",
   "metadata": {},
   "source": [
    "# duckdb"
   ]
  },
  {
   "cell_type": "code",
   "execution_count": 13,
   "id": "63d44b58-1135-46c3-817a-d322e321708b",
   "metadata": {
    "tags": []
   },
   "outputs": [
    {
     "name": "stdout",
     "output_type": "stream",
     "text": [
      "Collecting duckdb\n",
      "  Downloading duckdb-0.10.0-cp310-cp310-manylinux_2_17_x86_64.manylinux2014_x86_64.whl.metadata (763 bytes)\n",
      "Requirement already satisfied: polars[pyarrow] in /opt/conda/lib/python3.10/site-packages (0.20.15)\n",
      "Requirement already satisfied: pyarrow>=7.0.0 in /opt/conda/lib/python3.10/site-packages (from polars[pyarrow]) (15.0.0)\n",
      "Requirement already satisfied: numpy<2,>=1.16.6 in /opt/conda/lib/python3.10/site-packages (from pyarrow>=7.0.0->polars[pyarrow]) (1.25.2)\n",
      "Downloading duckdb-0.10.0-cp310-cp310-manylinux_2_17_x86_64.manylinux2014_x86_64.whl (17.8 MB)\n",
      "\u001b[2K   \u001b[90m━━━━━━━━━━━━━━━━━━━━━━━━━━━━━━━━━━━━━━━━\u001b[0m \u001b[32m17.8/17.8 MB\u001b[0m \u001b[31m73.9 MB/s\u001b[0m eta \u001b[36m0:00:00\u001b[0m:00:01\u001b[0m00:01\u001b[0m\n",
      "\u001b[?25hInstalling collected packages: duckdb\n",
      "Successfully installed duckdb-0.10.0\n"
     ]
    }
   ],
   "source": [
    "!pip install duckdb \"polars[pyarrow]\""
   ]
  },
  {
   "cell_type": "code",
   "execution_count": 59,
   "id": "d45c3ea7-dd5c-45c8-ba8d-cfbd37ba07c0",
   "metadata": {
    "tags": []
   },
   "outputs": [],
   "source": [
    "import duckdb"
   ]
  },
  {
   "cell_type": "code",
   "execution_count": 15,
   "id": "c07f651a-5ce7-40f6-a721-d0193b48f94b",
   "metadata": {
    "tags": []
   },
   "outputs": [
    {
     "data": {
      "text/plain": [
       "┌───────────┬─────────────┬──────────┬────────────┬────────────────┬────────────────┬────────────┬──────────┬────────┐\n",
       "│ sales_ymd │ sales_epoch │ store_cd │ receipt_no │ receipt_sub_no │  customer_id   │ product_cd │ quantity │ amount │\n",
       "│   int64   │    int64    │ varchar  │   int64    │     int64      │    varchar     │  varchar   │  int64   │ int64  │\n",
       "├───────────┼─────────────┼──────────┼────────────┼────────────────┼────────────────┼────────────┼──────────┼────────┤\n",
       "│  20181103 │  1541203200 │ S14006   │        112 │              1 │ CS006214000001 │ P070305012 │        1 │    158 │\n",
       "│  20181118 │  1542499200 │ S13008   │       1132 │              2 │ CS008415000097 │ P070701017 │        1 │     81 │\n",
       "│  20170712 │  1499817600 │ S14028   │       1102 │              1 │ CS028414000014 │ P060101005 │        1 │    170 │\n",
       "└───────────┴─────────────┴──────────┴────────────┴────────────────┴────────────────┴────────────┴──────────┴────────┘"
      ]
     },
     "execution_count": 15,
     "metadata": {},
     "output_type": "execute_result"
    }
   ],
   "source": [
    "duckdb.sql(\"\"\"\n",
    "select \n",
    "    *\n",
    "from\n",
    "    df_receipt\n",
    "limit\n",
    "    3\n",
    "\"\"\")"
   ]
  },
  {
   "cell_type": "code",
   "execution_count": 16,
   "id": "71c89377-03f8-44cb-84c9-f27cb70bb3e4",
   "metadata": {
    "tags": []
   },
   "outputs": [
    {
     "data": {
      "text/plain": [
       "┌────────────────┬────────────────────┬──────────────┬───────────────────┐\n",
       "│ quantity_total │   quantity_mean    │ amount_total │    amount_mean    │\n",
       "│     int128     │       double       │    int128    │      double       │\n",
       "├────────────────┼────────────────────┼──────────────┼───────────────────┤\n",
       "│         105862 │ 1.0112818945176298 │     33556550 │ 320.5600825364679 │\n",
       "└────────────────┴────────────────────┴──────────────┴───────────────────┘"
      ]
     },
     "execution_count": 16,
     "metadata": {},
     "output_type": "execute_result"
    }
   ],
   "source": [
    "duckdb.sql(\"\"\"\n",
    "select \n",
    "    sum(quantity) as quantity_total\n",
    "    , avg(quantity) as quantity_mean\n",
    "    , sum(amount) as amount_total\n",
    "    , avg(amount) as amount_mean\n",
    "from\n",
    "    df_receipt\n",
    "\"\"\")"
   ]
  },
  {
   "cell_type": "code",
   "execution_count": null,
   "id": "71872093-2cf1-4917-bf18-58ac8657fdca",
   "metadata": {},
   "outputs": [],
   "source": []
  },
  {
   "cell_type": "markdown",
   "id": "5978b1d5-bc43-4a23-9d68-32f318d4b1c1",
   "metadata": {
    "tags": []
   },
   "source": [
    "# pygwalker"
   ]
  },
  {
   "cell_type": "code",
   "execution_count": 23,
   "id": "ef5d6e00-28ec-414b-b83c-414136ae88e1",
   "metadata": {
    "collapsed": true,
    "jupyter": {
     "outputs_hidden": true
    },
    "tags": []
   },
   "outputs": [
    {
     "name": "stdout",
     "output_type": "stream",
     "text": [
      "Requirement already satisfied: pygwalker in /opt/conda/lib/python3.10/site-packages (0.4.7)\n",
      "Requirement already satisfied: appdirs in /opt/conda/lib/python3.10/site-packages (from pygwalker) (1.4.4)\n",
      "Requirement already satisfied: arrow in /opt/conda/lib/python3.10/site-packages (from pygwalker) (1.3.0)\n",
      "Requirement already satisfied: astor in /opt/conda/lib/python3.10/site-packages (from pygwalker) (0.8.1)\n",
      "Requirement already satisfied: cachetools in /opt/conda/lib/python3.10/site-packages (from pygwalker) (5.3.3)\n",
      "Requirement already satisfied: duckdb==0.10.0 in /opt/conda/lib/python3.10/site-packages (from pygwalker) (0.10.0)\n",
      "Requirement already satisfied: gw-dsl-parser==0.1.45a6 in /opt/conda/lib/python3.10/site-packages (from pygwalker) (0.1.45a6)\n",
      "Requirement already satisfied: ipython in /opt/conda/lib/python3.10/site-packages (from pygwalker) (8.21.0)\n",
      "Requirement already satisfied: ipywidgets in /opt/conda/lib/python3.10/site-packages (from pygwalker) (8.1.2)\n",
      "Requirement already satisfied: jinja2 in /opt/conda/lib/python3.10/site-packages (from pygwalker) (3.1.3)\n",
      "Requirement already satisfied: kanaries-track==0.0.4 in /opt/conda/lib/python3.10/site-packages (from pygwalker) (0.0.4)\n",
      "Requirement already satisfied: pandas in /opt/conda/lib/python3.10/site-packages (from pygwalker) (2.0.3)\n",
      "Requirement already satisfied: psutil in /opt/conda/lib/python3.10/site-packages (from pygwalker) (5.9.3)\n",
      "Requirement already satisfied: pyarrow in /opt/conda/lib/python3.10/site-packages (from pygwalker) (15.0.0)\n",
      "Requirement already satisfied: pydantic in /opt/conda/lib/python3.10/site-packages (from pygwalker) (1.10.14)\n",
      "Requirement already satisfied: pytz in /opt/conda/lib/python3.10/site-packages (from pygwalker) (2024.1)\n",
      "Requirement already satisfied: requests in /opt/conda/lib/python3.10/site-packages (from pygwalker) (2.31.0)\n",
      "Requirement already satisfied: segment-analytics-python==2.2.3 in /opt/conda/lib/python3.10/site-packages (from pygwalker) (2.2.3)\n",
      "Requirement already satisfied: sqlalchemy in /opt/conda/lib/python3.10/site-packages (from pygwalker) (2.0.28)\n",
      "Requirement already satisfied: sqlglot>=19.0.0 in /opt/conda/lib/python3.10/site-packages (from pygwalker) (22.5.0)\n",
      "Requirement already satisfied: typing-extensions in /opt/conda/lib/python3.10/site-packages (from pygwalker) (4.10.0)\n",
      "Requirement already satisfied: wasmtime==12.0.0 in /opt/conda/lib/python3.10/site-packages (from gw-dsl-parser==0.1.45a6->pygwalker) (12.0.0)\n",
      "Requirement already satisfied: backoff>=2.2.1 in /opt/conda/lib/python3.10/site-packages (from kanaries-track==0.0.4->pygwalker) (2.2.1)\n",
      "Requirement already satisfied: dateutils>=0.6.12 in /opt/conda/lib/python3.10/site-packages (from kanaries-track==0.0.4->pygwalker) (0.6.12)\n",
      "Requirement already satisfied: monotonic~=1.5 in /opt/conda/lib/python3.10/site-packages (from segment-analytics-python==2.2.3->pygwalker) (1.6)\n",
      "Requirement already satisfied: python-dateutil~=2.2 in /opt/conda/lib/python3.10/site-packages (from segment-analytics-python==2.2.3->pygwalker) (2.9.0)\n",
      "Requirement already satisfied: charset-normalizer<4,>=2 in /opt/conda/lib/python3.10/site-packages (from requests->pygwalker) (3.3.2)\n",
      "Requirement already satisfied: idna<4,>=2.5 in /opt/conda/lib/python3.10/site-packages (from requests->pygwalker) (3.6)\n",
      "Requirement already satisfied: urllib3<3,>=1.21.1 in /opt/conda/lib/python3.10/site-packages (from requests->pygwalker) (1.26.18)\n",
      "Requirement already satisfied: certifi>=2017.4.17 in /opt/conda/lib/python3.10/site-packages (from requests->pygwalker) (2024.2.2)\n",
      "Requirement already satisfied: types-python-dateutil>=2.8.10 in /opt/conda/lib/python3.10/site-packages (from arrow->pygwalker) (2.8.19.20240106)\n",
      "Requirement already satisfied: decorator in /opt/conda/lib/python3.10/site-packages (from ipython->pygwalker) (5.1.1)\n",
      "Requirement already satisfied: jedi>=0.16 in /opt/conda/lib/python3.10/site-packages (from ipython->pygwalker) (0.19.1)\n",
      "Requirement already satisfied: matplotlib-inline in /opt/conda/lib/python3.10/site-packages (from ipython->pygwalker) (0.1.6)\n",
      "Requirement already satisfied: prompt-toolkit<3.1.0,>=3.0.41 in /opt/conda/lib/python3.10/site-packages (from ipython->pygwalker) (3.0.42)\n",
      "Requirement already satisfied: pygments>=2.4.0 in /opt/conda/lib/python3.10/site-packages (from ipython->pygwalker) (2.17.2)\n",
      "Requirement already satisfied: stack-data in /opt/conda/lib/python3.10/site-packages (from ipython->pygwalker) (0.6.2)\n",
      "Requirement already satisfied: traitlets>=5 in /opt/conda/lib/python3.10/site-packages (from ipython->pygwalker) (5.9.0)\n",
      "Requirement already satisfied: exceptiongroup in /opt/conda/lib/python3.10/site-packages (from ipython->pygwalker) (1.2.0)\n",
      "Requirement already satisfied: pexpect>4.3 in /opt/conda/lib/python3.10/site-packages (from ipython->pygwalker) (4.9.0)\n",
      "Requirement already satisfied: comm>=0.1.3 in /opt/conda/lib/python3.10/site-packages (from ipywidgets->pygwalker) (0.2.1)\n",
      "Requirement already satisfied: widgetsnbextension~=4.0.10 in /opt/conda/lib/python3.10/site-packages (from ipywidgets->pygwalker) (4.0.10)\n",
      "Requirement already satisfied: jupyterlab-widgets~=3.0.10 in /opt/conda/lib/python3.10/site-packages (from ipywidgets->pygwalker) (3.0.10)\n",
      "Requirement already satisfied: MarkupSafe>=2.0 in /opt/conda/lib/python3.10/site-packages (from jinja2->pygwalker) (2.1.5)\n",
      "Requirement already satisfied: tzdata>=2022.1 in /opt/conda/lib/python3.10/site-packages (from pandas->pygwalker) (2024.1)\n",
      "Requirement already satisfied: numpy>=1.21.0 in /opt/conda/lib/python3.10/site-packages (from pandas->pygwalker) (1.25.2)\n",
      "Requirement already satisfied: greenlet!=0.4.17 in /opt/conda/lib/python3.10/site-packages (from sqlalchemy->pygwalker) (3.0.3)\n",
      "Requirement already satisfied: parso<0.9.0,>=0.8.3 in /opt/conda/lib/python3.10/site-packages (from jedi>=0.16->ipython->pygwalker) (0.8.3)\n",
      "Requirement already satisfied: ptyprocess>=0.5 in /opt/conda/lib/python3.10/site-packages (from pexpect>4.3->ipython->pygwalker) (0.7.0)\n",
      "Requirement already satisfied: wcwidth in /opt/conda/lib/python3.10/site-packages (from prompt-toolkit<3.1.0,>=3.0.41->ipython->pygwalker) (0.2.13)\n",
      "Requirement already satisfied: six>=1.5 in /opt/conda/lib/python3.10/site-packages (from python-dateutil~=2.2->segment-analytics-python==2.2.3->pygwalker) (1.16.0)\n",
      "Requirement already satisfied: executing>=1.2.0 in /opt/conda/lib/python3.10/site-packages (from stack-data->ipython->pygwalker) (2.0.1)\n",
      "Requirement already satisfied: asttokens>=2.1.0 in /opt/conda/lib/python3.10/site-packages (from stack-data->ipython->pygwalker) (2.4.1)\n",
      "Requirement already satisfied: pure-eval in /opt/conda/lib/python3.10/site-packages (from stack-data->ipython->pygwalker) (0.2.2)\n"
     ]
    }
   ],
   "source": [
    "!pip install pygwalker"
   ]
  },
  {
   "cell_type": "code",
   "execution_count": 66,
   "id": "7797f5ae-2a6d-4062-a34b-3b2fa9fcc2e8",
   "metadata": {
    "tags": []
   },
   "outputs": [],
   "source": [
    "import pygwalker as pyg\n",
    "from datetime import datetime"
   ]
  },
  {
   "cell_type": "code",
   "execution_count": 67,
   "id": "2c07c53f-a427-428a-9335-a30a378c1f19",
   "metadata": {
    "tags": []
   },
   "outputs": [
    {
     "name": "stderr",
     "output_type": "stream",
     "text": [
      "/var/tmp/ipykernel_1980/3663275593.py:3: DeprecationWarning: `apply` is deprecated. It has been renamed to `map_elements`.\n",
      "  (pl.col(\"sales_ymd\").apply(lambda x: datetime.strptime(str(x), '%Y%m%d')).alias(\"sales_ymd\")\n"
     ]
    }
   ],
   "source": [
    "df_receipt = \\\n",
    "    df_receipt.with_columns(\n",
    "    (pl.col(\"sales_ymd\").apply(lambda x: datetime.strptime(str(x), '%Y%m%d')).alias(\"sales_ymd\")\n",
    "))"
   ]
  },
  {
   "cell_type": "code",
   "execution_count": 26,
   "id": "fe6f70e5-0fbf-4381-b9fd-6e270ecabc7b",
   "metadata": {
    "tags": []
   },
   "outputs": [
    {
     "name": "stderr",
     "output_type": "stream",
     "text": [
      "WARNING: Parameter `debug` is expired, please use `spec_io_mode` instead.\n"
     ]
    },
    {
     "data": {
      "application/vnd.jupyter.widget-view+json": {
       "model_id": "15a6f5ce12964e3bab8d009d186913db",
       "version_major": 2,
       "version_minor": 0
      },
      "text/plain": [
       "Box(children=(HTML(value='<div id=\"ifr-pyg-000613dcd22facddnmF5AVJZxuI8HSto\" style=\"height: auto\">\\n    <head>…"
      ]
     },
     "metadata": {},
     "output_type": "display_data"
    },
    {
     "data": {
      "text/html": [],
      "text/plain": [
       "<IPython.core.display.HTML object>"
      ]
     },
     "metadata": {},
     "output_type": "display_data"
    }
   ],
   "source": [
    "walker = pyg.walk(df_receipt, use_kernel_calc=True, debug=False)"
   ]
  },
  {
   "cell_type": "code",
   "execution_count": null,
   "id": "29b456f9-2016-46a0-b2f1-a3bcfbd2ce02",
   "metadata": {},
   "outputs": [],
   "source": []
  },
  {
   "cell_type": "code",
   "execution_count": null,
   "id": "9cc48539-820f-4866-bfaa-28a821a5f3cc",
   "metadata": {},
   "outputs": [],
   "source": []
  },
  {
   "cell_type": "code",
   "execution_count": 96,
   "id": "576a4137-af41-4969-87f4-23b1c3f3b371",
   "metadata": {},
   "outputs": [],
   "source": [
    "joined_pl = \\\n",
    "    duckdb.sql(\"\"\"\n",
    "    select \n",
    "        *\n",
    "    from\n",
    "        df_receipt as r\n",
    "    left join\n",
    "        df_customer as c\n",
    "        on r.customer_id = c.customer_id\n",
    "    left join\n",
    "        df_store as s\n",
    "        on r.store_cd = s.store_cd\n",
    "    left join\n",
    "        df_product as p\n",
    "        on r.product_cd = p.product_cd\n",
    "    left join\n",
    "        df_category as ca\n",
    "        on p.category_small_cd = ca.category_small_cd\n",
    "    \"\"\").pl()"
   ]
  },
  {
   "cell_type": "code",
   "execution_count": 97,
   "id": "14dfcee2-e871-4c43-9fbb-c00e0f8b5151",
   "metadata": {
    "tags": []
   },
   "outputs": [
    {
     "data": {
      "text/html": [
       "<div><style>\n",
       ".dataframe > thead > tr,\n",
       ".dataframe > tbody > tr {\n",
       "  text-align: right;\n",
       "  white-space: pre-wrap;\n",
       "}\n",
       "</style>\n",
       "<small>shape: (104_681, 42)</small><table border=\"1\" class=\"dataframe\"><thead><tr><th>sales_ymd</th><th>sales_epoch</th><th>store_cd</th><th>receipt_no</th><th>receipt_sub_no</th><th>customer_id</th><th>product_cd</th><th>quantity</th><th>amount</th><th>customer_id_1</th><th>customer_name</th><th>gender_cd</th><th>gender</th><th>birth_day</th><th>age</th><th>postal_cd</th><th>address</th><th>application_store_cd</th><th>application_date</th><th>status_cd</th><th>store_cd_1</th><th>store_name</th><th>prefecture_cd</th><th>prefecture</th><th>address_1</th><th>address_kana</th><th>tel_no</th><th>longitude</th><th>latitude</th><th>floor_area</th><th>product_cd_1</th><th>category_major_cd</th><th>category_medium_cd</th><th>category_small_cd</th><th>unit_price</th><th>unit_cost</th><th>category_major_cd_1</th><th>category_major_name</th><th>category_medium_cd_1</th><th>category_medium_name</th><th>category_small_cd_1</th><th>category_small_name</th></tr><tr><td>datetime[μs]</td><td>i64</td><td>str</td><td>i64</td><td>i64</td><td>str</td><td>str</td><td>i64</td><td>i64</td><td>str</td><td>str</td><td>i64</td><td>str</td><td>str</td><td>i64</td><td>str</td><td>str</td><td>str</td><td>i64</td><td>str</td><td>str</td><td>str</td><td>i64</td><td>str</td><td>str</td><td>str</td><td>str</td><td>f64</td><td>f64</td><td>f64</td><td>str</td><td>i64</td><td>i64</td><td>i64</td><td>i64</td><td>i64</td><td>i64</td><td>str</td><td>i64</td><td>str</td><td>i64</td><td>str</td></tr></thead><tbody><tr><td>2018-11-03 00:00:00</td><td>1541203200</td><td>&quot;S14006&quot;</td><td>112</td><td>1</td><td>&quot;CS006214000001…</td><td>&quot;P070305012&quot;</td><td>1</td><td>158</td><td>&quot;CS006214000001…</td><td>&quot;志水 佳乃&quot;</td><td>1</td><td>&quot;女性&quot;</td><td>&quot;1996-12-08&quot;</td><td>22</td><td>&quot;224-0057&quot;</td><td>&quot;神奈川県横浜市都筑区川和町*…</td><td>&quot;S14006&quot;</td><td>20150201</td><td>&quot;E-20100908-F&quot;</td><td>&quot;S14006&quot;</td><td>&quot;葛が谷店&quot;</td><td>14</td><td>&quot;神奈川県&quot;</td><td>&quot;神奈川県横浜市都筑区葛が谷&quot;</td><td>&quot;カナガワケンヨコハマシツヅキ…</td><td>&quot;045-123-4031&quot;</td><td>139.5633</td><td>35.53573</td><td>1886.0</td><td>&quot;P070305012&quot;</td><td>7</td><td>703</td><td>70305</td><td>158</td><td>119</td><td>7</td><td>&quot;瓶詰缶詰&quot;</td><td>703</td><td>&quot;和風調味料&quot;</td><td>70305</td><td>&quot;砂糖・甘味料&quot;</td></tr><tr><td>2018-11-18 00:00:00</td><td>1542499200</td><td>&quot;S13008&quot;</td><td>1132</td><td>2</td><td>&quot;CS008415000097…</td><td>&quot;P070701017&quot;</td><td>1</td><td>81</td><td>&quot;CS008415000097…</td><td>&quot;中田 光&quot;</td><td>1</td><td>&quot;女性&quot;</td><td>&quot;1971-05-21&quot;</td><td>47</td><td>&quot;182-0004&quot;</td><td>&quot;東京都調布市入間町*****…</td><td>&quot;S13008&quot;</td><td>20150322</td><td>&quot;9-20100417-B&quot;</td><td>&quot;S13008&quot;</td><td>&quot;成城店&quot;</td><td>13</td><td>&quot;東京都&quot;</td><td>&quot;東京都世田谷区成城三丁目&quot;</td><td>&quot;トウキョウトセタガヤクセイジ…</td><td>&quot;03-0123-4012&quot;</td><td>139.5966</td><td>35.63614</td><td>883.0</td><td>&quot;P070701017&quot;</td><td>7</td><td>707</td><td>70701</td><td>81</td><td>61</td><td>7</td><td>&quot;瓶詰缶詰&quot;</td><td>707</td><td>&quot;即席加工品&quot;</td><td>70701</td><td>&quot;即席袋めん&quot;</td></tr><tr><td>2017-07-12 00:00:00</td><td>1499817600</td><td>&quot;S14028&quot;</td><td>1102</td><td>1</td><td>&quot;CS028414000014…</td><td>&quot;P060101005&quot;</td><td>1</td><td>170</td><td>&quot;CS028414000014…</td><td>&quot;米倉 ヒカル&quot;</td><td>1</td><td>&quot;女性&quot;</td><td>&quot;1977-02-05&quot;</td><td>42</td><td>&quot;246-0023&quot;</td><td>&quot;神奈川県横浜市瀬谷区阿久和東…</td><td>&quot;S14028&quot;</td><td>20150711</td><td>&quot;E-20101023-E&quot;</td><td>&quot;S14028&quot;</td><td>&quot;二ツ橋店&quot;</td><td>14</td><td>&quot;神奈川県&quot;</td><td>&quot;神奈川県横浜市瀬谷区二ツ橋町…</td><td>&quot;カナガワケンヨコハマシセヤク…</td><td>&quot;045-123-4042&quot;</td><td>139.4963</td><td>35.46304</td><td>1574.0</td><td>&quot;P060101005&quot;</td><td>6</td><td>601</td><td>60101</td><td>170</td><td>128</td><td>6</td><td>&quot;パン・乳製品&quot;</td><td>601</td><td>&quot;パン&quot;</td><td>60101</td><td>&quot;食パン&quot;</td></tr><tr><td>2018-08-21 00:00:00</td><td>1534809600</td><td>&quot;S14025&quot;</td><td>1102</td><td>2</td><td>&quot;CS025415000050…</td><td>&quot;P060102007&quot;</td><td>1</td><td>90</td><td>&quot;CS025415000050…</td><td>&quot;亀井 奈々&quot;</td><td>1</td><td>&quot;女性&quot;</td><td>&quot;1971-10-25&quot;</td><td>47</td><td>&quot;242-0024&quot;</td><td>&quot;神奈川県大和市福田*****…</td><td>&quot;S14025&quot;</td><td>20160131</td><td>&quot;E-20101008-E&quot;</td><td>&quot;S14025&quot;</td><td>&quot;大和店&quot;</td><td>14</td><td>&quot;神奈川県&quot;</td><td>&quot;神奈川県大和市下和田&quot;</td><td>&quot;カナガワケンヤマトシシモワダ…</td><td>&quot;046-123-4039&quot;</td><td>139.468</td><td>35.43414</td><td>1011.0</td><td>&quot;P060102007&quot;</td><td>6</td><td>601</td><td>60102</td><td>90</td><td>63</td><td>6</td><td>&quot;パン・乳製品&quot;</td><td>601</td><td>&quot;パン&quot;</td><td>60102</td><td>&quot;菓子パン&quot;</td></tr><tr><td>2019-09-22 00:00:00</td><td>1569110400</td><td>&quot;S14040&quot;</td><td>1102</td><td>1</td><td>&quot;CS040415000178…</td><td>&quot;P070501004&quot;</td><td>1</td><td>128</td><td>&quot;CS040415000178…</td><td>&quot;堀 ひかり&quot;</td><td>1</td><td>&quot;女性&quot;</td><td>&quot;1974-09-23&quot;</td><td>44</td><td>&quot;226-0016&quot;</td><td>&quot;神奈川県横浜市緑区霧が丘**…</td><td>&quot;S14040&quot;</td><td>20150627</td><td>&quot;E-20101001-D&quot;</td><td>&quot;S14040&quot;</td><td>&quot;長津田店&quot;</td><td>14</td><td>&quot;神奈川県&quot;</td><td>&quot;神奈川県横浜市緑区長津田みな…</td><td>&quot;カナガワケンヨコハマシミドリ…</td><td>&quot;045-123-4046&quot;</td><td>139.4994</td><td>35.52398</td><td>1548.0</td><td>&quot;P070501004&quot;</td><td>7</td><td>705</td><td>70501</td><td>128</td><td>96</td><td>7</td><td>&quot;瓶詰缶詰&quot;</td><td>705</td><td>&quot;缶・瓶詰&quot;</td><td>70501</td><td>&quot;農産缶詰&quot;</td></tr><tr><td>&hellip;</td><td>&hellip;</td><td>&hellip;</td><td>&hellip;</td><td>&hellip;</td><td>&hellip;</td><td>&hellip;</td><td>&hellip;</td><td>&hellip;</td><td>&hellip;</td><td>&hellip;</td><td>&hellip;</td><td>&hellip;</td><td>&hellip;</td><td>&hellip;</td><td>&hellip;</td><td>&hellip;</td><td>&hellip;</td><td>&hellip;</td><td>&hellip;</td><td>&hellip;</td><td>&hellip;</td><td>&hellip;</td><td>&hellip;</td><td>&hellip;</td><td>&hellip;</td><td>&hellip;</td><td>&hellip;</td><td>&hellip;</td><td>&hellip;</td><td>&hellip;</td><td>&hellip;</td><td>&hellip;</td><td>&hellip;</td><td>&hellip;</td><td>&hellip;</td><td>&hellip;</td><td>&hellip;</td><td>&hellip;</td><td>&hellip;</td><td>&hellip;</td><td>&hellip;</td></tr><tr><td>2018-12-17 00:00:00</td><td>1545004800</td><td>&quot;S13038&quot;</td><td>1122</td><td>2</td><td>&quot;CS038515000197…</td><td>&quot;P070504041&quot;</td><td>1</td><td>422</td><td>&quot;CS038515000197…</td><td>&quot;市川 七世&quot;</td><td>1</td><td>&quot;女性&quot;</td><td>&quot;1961-02-14&quot;</td><td>58</td><td>&quot;279-0043&quot;</td><td>&quot;千葉県浦安市富士見*****…</td><td>&quot;S13038&quot;</td><td>20150221</td><td>&quot;C-20100729-E&quot;</td><td>&quot;S13038&quot;</td><td>&quot;東葛西店&quot;</td><td>13</td><td>&quot;東京都&quot;</td><td>&quot;東京都江戸川区東葛西九丁目&quot;</td><td>&quot;トウキョウトエドガワクヒガシ…</td><td>&quot;03-0123-4024&quot;</td><td>139.8826</td><td>35.65366</td><td>1184.0</td><td>&quot;P070504041&quot;</td><td>7</td><td>705</td><td>70504</td><td>422</td><td>317</td><td>7</td><td>&quot;瓶詰缶詰&quot;</td><td>705</td><td>&quot;缶・瓶詰&quot;</td><td>70504</td><td>&quot;フルーツ缶詰&quot;</td></tr><tr><td>2018-03-03 00:00:00</td><td>1520035200</td><td>&quot;S14010&quot;</td><td>1102</td><td>2</td><td>&quot;CS010414000015…</td><td>&quot;P070504019&quot;</td><td>1</td><td>198</td><td>&quot;CS010414000015…</td><td>&quot;多田 紗季&quot;</td><td>1</td><td>&quot;女性&quot;</td><td>&quot;1972-02-27&quot;</td><td>47</td><td>&quot;222-0026&quot;</td><td>&quot;神奈川県横浜市港北区篠原町*…</td><td>&quot;S14010&quot;</td><td>20150808</td><td>&quot;F-20101027-F&quot;</td><td>&quot;S14010&quot;</td><td>&quot;菊名店&quot;</td><td>14</td><td>&quot;神奈川県&quot;</td><td>&quot;神奈川県横浜市港北区菊名一丁…</td><td>&quot;カナガワケンヨコハマシコウホ…</td><td>&quot;045-123-4032&quot;</td><td>139.6326</td><td>35.50049</td><td>1732.0</td><td>&quot;P070504019&quot;</td><td>7</td><td>705</td><td>70504</td><td>198</td><td>149</td><td>7</td><td>&quot;瓶詰缶詰&quot;</td><td>705</td><td>&quot;缶・瓶詰&quot;</td><td>70504</td><td>&quot;フルーツ缶詰&quot;</td></tr><tr><td>2019-02-25 00:00:00</td><td>1551052800</td><td>&quot;S12014&quot;</td><td>1122</td><td>2</td><td>&quot;CS014415000122…</td><td>&quot;P070504041&quot;</td><td>1</td><td>422</td><td>&quot;CS014415000122…</td><td>&quot;内藤 那奈&quot;</td><td>1</td><td>&quot;女性&quot;</td><td>&quot;1974-01-10&quot;</td><td>45</td><td>&quot;263-0052&quot;</td><td>&quot;千葉県千葉市稲毛区あやめ台*…</td><td>&quot;S12014&quot;</td><td>20150212</td><td>&quot;F-20101020-E&quot;</td><td>&quot;S12014&quot;</td><td>&quot;千草台店&quot;</td><td>12</td><td>&quot;千葉県&quot;</td><td>&quot;千葉県千葉市稲毛区千草台一丁…</td><td>&quot;チバケンチバシイナゲクチグサ…</td><td>&quot;043-123-4003&quot;</td><td>140.118</td><td>35.63559</td><td>1698.0</td><td>&quot;P070504041&quot;</td><td>7</td><td>705</td><td>70504</td><td>422</td><td>317</td><td>7</td><td>&quot;瓶詰缶詰&quot;</td><td>705</td><td>&quot;缶・瓶詰&quot;</td><td>70504</td><td>&quot;フルーツ缶詰&quot;</td></tr><tr><td>2017-12-20 00:00:00</td><td>1513728000</td><td>&quot;S13004&quot;</td><td>1162</td><td>2</td><td>&quot;CS004415000082…</td><td>&quot;P070504041&quot;</td><td>1</td><td>422</td><td>&quot;CS004415000082…</td><td>&quot;吉原 真奈美&quot;</td><td>1</td><td>&quot;女性&quot;</td><td>&quot;1969-11-09&quot;</td><td>49</td><td>&quot;176-0025&quot;</td><td>&quot;東京都練馬区中村南*****…</td><td>&quot;S13004&quot;</td><td>20150620</td><td>&quot;D-20090820-C&quot;</td><td>&quot;S13004&quot;</td><td>&quot;鷺宮店&quot;</td><td>13</td><td>&quot;東京都&quot;</td><td>&quot;東京都中野区鷺宮三丁目&quot;</td><td>&quot;トウキョウトナカノクサギノミ…</td><td>&quot;03-0123-4010&quot;</td><td>139.6421</td><td>35.72348</td><td>947.0</td><td>&quot;P070504041&quot;</td><td>7</td><td>705</td><td>70504</td><td>422</td><td>317</td><td>7</td><td>&quot;瓶詰缶詰&quot;</td><td>705</td><td>&quot;缶・瓶詰&quot;</td><td>70504</td><td>&quot;フルーツ缶詰&quot;</td></tr><tr><td>2019-09-12 00:00:00</td><td>1568246400</td><td>&quot;S13017&quot;</td><td>1172</td><td>1</td><td>&quot;CS017412000031…</td><td>&quot;P070504041&quot;</td><td>1</td><td>422</td><td>&quot;CS017412000031…</td><td>&quot;板倉 めぐみ&quot;</td><td>1</td><td>&quot;女性&quot;</td><td>&quot;1970-10-21&quot;</td><td>48</td><td>&quot;167-0052&quot;</td><td>&quot;東京都杉並区南荻窪*****…</td><td>&quot;S13017&quot;</td><td>20150104</td><td>&quot;B-20100912-7&quot;</td><td>&quot;S13017&quot;</td><td>&quot;高円寺南店&quot;</td><td>13</td><td>&quot;東京都&quot;</td><td>&quot;東京都杉並区高円寺南四丁目&quot;</td><td>&quot;トウキョウトスギナミクコウエ…</td><td>&quot;03-0123-4016&quot;</td><td>139.6513</td><td>35.70273</td><td>841.0</td><td>&quot;P070504041&quot;</td><td>7</td><td>705</td><td>70504</td><td>422</td><td>317</td><td>7</td><td>&quot;瓶詰缶詰&quot;</td><td>705</td><td>&quot;缶・瓶詰&quot;</td><td>70504</td><td>&quot;フルーツ缶詰&quot;</td></tr></tbody></table></div>"
      ],
      "text/plain": [
       "shape: (104_681, 42)\n",
       "┌───────────┬───────────┬──────────┬───────────┬───┬───────────┬───────────┬───────────┬───────────┐\n",
       "│ sales_ymd ┆ sales_epo ┆ store_cd ┆ receipt_n ┆ … ┆ category_ ┆ category_ ┆ category_ ┆ category_ │\n",
       "│ ---       ┆ ch        ┆ ---      ┆ o         ┆   ┆ medium_cd ┆ medium_na ┆ small_cd_ ┆ small_nam │\n",
       "│ datetime[ ┆ ---       ┆ str      ┆ ---       ┆   ┆ _1        ┆ me        ┆ 1         ┆ e         │\n",
       "│ μs]       ┆ i64       ┆          ┆ i64       ┆   ┆ ---       ┆ ---       ┆ ---       ┆ ---       │\n",
       "│           ┆           ┆          ┆           ┆   ┆ i64       ┆ str       ┆ i64       ┆ str       │\n",
       "╞═══════════╪═══════════╪══════════╪═══════════╪═══╪═══════════╪═══════════╪═══════════╪═══════════╡\n",
       "│ 2018-11-0 ┆ 154120320 ┆ S14006   ┆ 112       ┆ … ┆ 703       ┆ 和風調味  ┆ 70305     ┆ 砂糖・甘  │\n",
       "│ 3         ┆ 0         ┆          ┆           ┆   ┆           ┆ 料        ┆           ┆ 味料      │\n",
       "│ 00:00:00  ┆           ┆          ┆           ┆   ┆           ┆           ┆           ┆           │\n",
       "│ 2018-11-1 ┆ 154249920 ┆ S13008   ┆ 1132      ┆ … ┆ 707       ┆ 即席加工  ┆ 70701     ┆ 即席袋め  │\n",
       "│ 8         ┆ 0         ┆          ┆           ┆   ┆           ┆ 品        ┆           ┆ ん        │\n",
       "│ 00:00:00  ┆           ┆          ┆           ┆   ┆           ┆           ┆           ┆           │\n",
       "│ 2017-07-1 ┆ 149981760 ┆ S14028   ┆ 1102      ┆ … ┆ 601       ┆ パン      ┆ 60101     ┆ 食パン    │\n",
       "│ 2         ┆ 0         ┆          ┆           ┆   ┆           ┆           ┆           ┆           │\n",
       "│ 00:00:00  ┆           ┆          ┆           ┆   ┆           ┆           ┆           ┆           │\n",
       "│ 2018-08-2 ┆ 153480960 ┆ S14025   ┆ 1102      ┆ … ┆ 601       ┆ パン      ┆ 60102     ┆ 菓子パン  │\n",
       "│ 1         ┆ 0         ┆          ┆           ┆   ┆           ┆           ┆           ┆           │\n",
       "│ 00:00:00  ┆           ┆          ┆           ┆   ┆           ┆           ┆           ┆           │\n",
       "│ 2019-09-2 ┆ 156911040 ┆ S14040   ┆ 1102      ┆ … ┆ 705       ┆ 缶・瓶詰  ┆ 70501     ┆ 農産缶詰  │\n",
       "│ 2         ┆ 0         ┆          ┆           ┆   ┆           ┆           ┆           ┆           │\n",
       "│ 00:00:00  ┆           ┆          ┆           ┆   ┆           ┆           ┆           ┆           │\n",
       "│ …         ┆ …         ┆ …        ┆ …         ┆ … ┆ …         ┆ …         ┆ …         ┆ …         │\n",
       "│ 2018-12-1 ┆ 154500480 ┆ S13038   ┆ 1122      ┆ … ┆ 705       ┆ 缶・瓶詰  ┆ 70504     ┆ フルーツ  │\n",
       "│ 7         ┆ 0         ┆          ┆           ┆   ┆           ┆           ┆           ┆ 缶詰      │\n",
       "│ 00:00:00  ┆           ┆          ┆           ┆   ┆           ┆           ┆           ┆           │\n",
       "│ 2018-03-0 ┆ 152003520 ┆ S14010   ┆ 1102      ┆ … ┆ 705       ┆ 缶・瓶詰  ┆ 70504     ┆ フルーツ  │\n",
       "│ 3         ┆ 0         ┆          ┆           ┆   ┆           ┆           ┆           ┆ 缶詰      │\n",
       "│ 00:00:00  ┆           ┆          ┆           ┆   ┆           ┆           ┆           ┆           │\n",
       "│ 2019-02-2 ┆ 155105280 ┆ S12014   ┆ 1122      ┆ … ┆ 705       ┆ 缶・瓶詰  ┆ 70504     ┆ フルーツ  │\n",
       "│ 5         ┆ 0         ┆          ┆           ┆   ┆           ┆           ┆           ┆ 缶詰      │\n",
       "│ 00:00:00  ┆           ┆          ┆           ┆   ┆           ┆           ┆           ┆           │\n",
       "│ 2017-12-2 ┆ 151372800 ┆ S13004   ┆ 1162      ┆ … ┆ 705       ┆ 缶・瓶詰  ┆ 70504     ┆ フルーツ  │\n",
       "│ 0         ┆ 0         ┆          ┆           ┆   ┆           ┆           ┆           ┆ 缶詰      │\n",
       "│ 00:00:00  ┆           ┆          ┆           ┆   ┆           ┆           ┆           ┆           │\n",
       "│ 2019-09-1 ┆ 156824640 ┆ S13017   ┆ 1172      ┆ … ┆ 705       ┆ 缶・瓶詰  ┆ 70504     ┆ フルーツ  │\n",
       "│ 2         ┆ 0         ┆          ┆           ┆   ┆           ┆           ┆           ┆ 缶詰      │\n",
       "│ 00:00:00  ┆           ┆          ┆           ┆   ┆           ┆           ┆           ┆           │\n",
       "└───────────┴───────────┴──────────┴───────────┴───┴───────────┴───────────┴───────────┴───────────┘"
      ]
     },
     "execution_count": 97,
     "metadata": {},
     "output_type": "execute_result"
    }
   ],
   "source": [
    "joined_pl"
   ]
  },
  {
   "cell_type": "code",
   "execution_count": 98,
   "id": "79a7d17b-1314-42bd-bbff-402a64960974",
   "metadata": {
    "tags": []
   },
   "outputs": [],
   "source": [
    "joined_pl = joined_pl.with_columns((pl.col(\"quantity\") * pl.col(\"unit_price\")).alias(\"a_price\"))\n",
    "joined_pl = joined_pl.with_columns((pl.col(\"quantity\") * pl.col(\"unit_cost\")).alias(\"a_cost\"))\n",
    "joined_pl = joined_pl.with_columns((pl.col(\"quantity\") * (pl.col(\"unit_price\") - pl.col(\"unit_cost\"))).alias(\"a_profit\"))\n"
   ]
  },
  {
   "cell_type": "code",
   "execution_count": 99,
   "id": "72db676b-8b08-45c6-b561-7e9eb0de525b",
   "metadata": {
    "tags": []
   },
   "outputs": [
    {
     "data": {
      "application/vnd.jupyter.widget-view+json": {
       "model_id": "d0eeca77ee854366b81b07b9bc5b753b",
       "version_major": 2,
       "version_minor": 0
      },
      "text/plain": [
       "Box(children=(HTML(value='<div id=\"ifr-pyg-000613eafa1185caYuisRJxFrKvqZbLj\" style=\"height: auto\">\\n    <head>…"
      ]
     },
     "metadata": {},
     "output_type": "display_data"
    },
    {
     "data": {
      "text/html": [],
      "text/plain": [
       "<IPython.core.display.HTML object>"
      ]
     },
     "metadata": {},
     "output_type": "display_data"
    }
   ],
   "source": [
    "walker = pyg.walk(joined_pl, use_kernel_calc=True, spec_io_mode=False)"
   ]
  }
 ],
 "metadata": {
  "environment": {
   "kernel": "python3",
   "name": "common-cpu.m118",
   "type": "gcloud",
   "uri": "us-docker.pkg.dev/deeplearning-platform-release/gcr.io/base-cpu:m118"
  },
  "kernelspec": {
   "display_name": "Python 3",
   "language": "python",
   "name": "python3"
  },
  "language_info": {
   "codemirror_mode": {
    "name": "ipython",
    "version": 3
   },
   "file_extension": ".py",
   "mimetype": "text/x-python",
   "name": "python",
   "nbconvert_exporter": "python",
   "pygments_lexer": "ipython3",
   "version": "3.10.13"
  }
 },
 "nbformat": 4,
 "nbformat_minor": 5
}
